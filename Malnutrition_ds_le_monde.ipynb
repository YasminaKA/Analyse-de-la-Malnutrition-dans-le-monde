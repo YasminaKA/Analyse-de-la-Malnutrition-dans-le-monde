{
 "cells": [
  {
   "cell_type": "markdown",
   "id": "279e9b2f",
   "metadata": {},
   "source": [
    "REALISER UNE ETUDE DE SANTE PUBLIQUE"
   ]
  },
  {
   "cell_type": "markdown",
   "id": "78813723",
   "metadata": {},
   "source": [
    "# LIRE LES FICHIERS"
   ]
  },
  {
   "cell_type": "markdown",
   "id": "cfac966b",
   "metadata": {},
   "source": [
    "## Importer les librairies pandas, numpy, matplotlib.pyplot et seaborn avec import"
   ]
  },
  {
   "cell_type": "code",
   "execution_count": 2,
   "id": "85238b4a",
   "metadata": {},
   "outputs": [],
   "source": [
    "import pandas as pd\n",
    "import numpy as np\n",
    "import matplotlib.pyplot as plt\n",
    "import seaborn as sns"
   ]
  },
  {
   "cell_type": "markdown",
   "id": "7878603d",
   "metadata": {},
   "source": [
    "## Lire les fichiers avec pd.read_csv"
   ]
  },
  {
   "cell_type": "code",
   "execution_count": 3,
   "id": "87bcaf69",
   "metadata": {},
   "outputs": [],
   "source": [
    "aide_alimentaire = pd.read_csv(\"aide_alimentaire.csv\")\n",
    "dispo_alimentaire = pd.read_csv('dispo_alimentaire.csv')\n",
    "population = pd.read_csv('population.csv')\n",
    "sous_nutrition = pd.read_csv('sous_nutrition.csv')"
   ]
  },
  {
   "cell_type": "markdown",
   "id": "51820835",
   "metadata": {},
   "source": [
    "# EXPLORER LES FICHIERS"
   ]
  },
  {
   "cell_type": "markdown",
   "id": "9cbc4143",
   "metadata": {},
   "source": [
    "## DF aide_alimentaire"
   ]
  },
  {
   "cell_type": "markdown",
   "id": "d47d870b",
   "metadata": {},
   "source": [
    "### Afficher les colonnes avec df.columns"
   ]
  },
  {
   "cell_type": "code",
   "execution_count": 4,
   "id": "d4de2632",
   "metadata": {},
   "outputs": [
    {
     "data": {
      "text/plain": [
       "Index(['Pays bénéficiaire', 'Année', 'Produit', 'Valeur'], dtype='object')"
      ]
     },
     "execution_count": 4,
     "metadata": {},
     "output_type": "execute_result"
    }
   ],
   "source": [
    "aide_alimentaire.columns"
   ]
  },
  {
   "cell_type": "markdown",
   "id": "d42074f5",
   "metadata": {},
   "source": [
    "### Afficher les types de données avec df.types"
   ]
  },
  {
   "cell_type": "code",
   "execution_count": 5,
   "id": "fd7fac2d",
   "metadata": {},
   "outputs": [
    {
     "data": {
      "text/plain": [
       "Pays bénéficiaire    object\n",
       "Année                 int64\n",
       "Produit              object\n",
       "Valeur                int64\n",
       "dtype: object"
      ]
     },
     "execution_count": 5,
     "metadata": {},
     "output_type": "execute_result"
    }
   ],
   "source": [
    "aide_alimentaire.dtypes"
   ]
  },
  {
   "cell_type": "markdown",
   "id": "bc8c0b6a",
   "metadata": {},
   "source": [
    "### Afficher le nombre de lignes et de colonnes avec df.shape"
   ]
  },
  {
   "cell_type": "code",
   "execution_count": 6,
   "id": "3d3425f1",
   "metadata": {},
   "outputs": [
    {
     "data": {
      "text/plain": [
       "(1475, 4)"
      ]
     },
     "execution_count": 6,
     "metadata": {},
     "output_type": "execute_result"
    }
   ],
   "source": [
    "aide_alimentaire.shape"
   ]
  },
  {
   "cell_type": "markdown",
   "id": "ac9c4ba4",
   "metadata": {},
   "source": [
    "### Afficher l'en-tête du df avec df.head()"
   ]
  },
  {
   "cell_type": "code",
   "execution_count": 7,
   "id": "dbf3acf8",
   "metadata": {},
   "outputs": [
    {
     "data": {
      "text/html": [
       "<div>\n",
       "<style scoped>\n",
       "    .dataframe tbody tr th:only-of-type {\n",
       "        vertical-align: middle;\n",
       "    }\n",
       "\n",
       "    .dataframe tbody tr th {\n",
       "        vertical-align: top;\n",
       "    }\n",
       "\n",
       "    .dataframe thead th {\n",
       "        text-align: right;\n",
       "    }\n",
       "</style>\n",
       "<table border=\"1\" class=\"dataframe\">\n",
       "  <thead>\n",
       "    <tr style=\"text-align: right;\">\n",
       "      <th></th>\n",
       "      <th>Pays bénéficiaire</th>\n",
       "      <th>Année</th>\n",
       "      <th>Produit</th>\n",
       "      <th>Valeur</th>\n",
       "    </tr>\n",
       "  </thead>\n",
       "  <tbody>\n",
       "    <tr>\n",
       "      <th>0</th>\n",
       "      <td>Afghanistan</td>\n",
       "      <td>2013</td>\n",
       "      <td>Autres non-céréales</td>\n",
       "      <td>682</td>\n",
       "    </tr>\n",
       "    <tr>\n",
       "      <th>1</th>\n",
       "      <td>Afghanistan</td>\n",
       "      <td>2014</td>\n",
       "      <td>Autres non-céréales</td>\n",
       "      <td>335</td>\n",
       "    </tr>\n",
       "    <tr>\n",
       "      <th>2</th>\n",
       "      <td>Afghanistan</td>\n",
       "      <td>2013</td>\n",
       "      <td>Blé et Farin</td>\n",
       "      <td>39224</td>\n",
       "    </tr>\n",
       "    <tr>\n",
       "      <th>3</th>\n",
       "      <td>Afghanistan</td>\n",
       "      <td>2014</td>\n",
       "      <td>Blé et Farin</td>\n",
       "      <td>15160</td>\n",
       "    </tr>\n",
       "    <tr>\n",
       "      <th>4</th>\n",
       "      <td>Afghanistan</td>\n",
       "      <td>2013</td>\n",
       "      <td>Céréales</td>\n",
       "      <td>40504</td>\n",
       "    </tr>\n",
       "  </tbody>\n",
       "</table>\n",
       "</div>"
      ],
      "text/plain": [
       "  Pays bénéficiaire  Année              Produit  Valeur\n",
       "0       Afghanistan   2013  Autres non-céréales     682\n",
       "1       Afghanistan   2014  Autres non-céréales     335\n",
       "2       Afghanistan   2013         Blé et Farin   39224\n",
       "3       Afghanistan   2014         Blé et Farin   15160\n",
       "4       Afghanistan   2013             Céréales   40504"
      ]
     },
     "execution_count": 7,
     "metadata": {},
     "output_type": "execute_result"
    }
   ],
   "source": [
    "aide_alimentaire.head()"
   ]
  },
  {
   "cell_type": "markdown",
   "id": "32163e2b",
   "metadata": {},
   "source": [
    "### Modifier le nom d'une colonne avec df.rename"
   ]
  },
  {
   "cell_type": "code",
   "execution_count": 8,
   "id": "acc5845e",
   "metadata": {},
   "outputs": [],
   "source": [
    "aide_alimentaire.rename(columns={'Valeur' : 'Quantite_tonnes'}, inplace=True)"
   ]
  },
  {
   "cell_type": "markdown",
   "id": "8ac53d8c",
   "metadata": {},
   "source": [
    "## DF dispo_alimentaire"
   ]
  },
  {
   "cell_type": "markdown",
   "id": "efae8a2d",
   "metadata": {},
   "source": [
    "### Afficher les colonnes sous forme de liste avec df.columns.to_list()"
   ]
  },
  {
   "cell_type": "code",
   "execution_count": 9,
   "id": "a39c75f9",
   "metadata": {},
   "outputs": [
    {
     "data": {
      "text/plain": [
       "['Zone',\n",
       " 'Produit',\n",
       " 'Origine',\n",
       " 'Aliments pour animaux',\n",
       " 'Autres Utilisations',\n",
       " 'Disponibilité alimentaire (Kcal/personne/jour)',\n",
       " 'Disponibilité alimentaire en quantité (kg/personne/an)',\n",
       " 'Disponibilité de matière grasse en quantité (g/personne/jour)',\n",
       " 'Disponibilité de protéines en quantité (g/personne/jour)',\n",
       " 'Disponibilité intérieure',\n",
       " 'Exportations - Quantité',\n",
       " 'Importations - Quantité',\n",
       " 'Nourriture',\n",
       " 'Pertes',\n",
       " 'Production',\n",
       " 'Semences',\n",
       " 'Traitement',\n",
       " 'Variation de stock']"
      ]
     },
     "execution_count": 9,
     "metadata": {},
     "output_type": "execute_result"
    }
   ],
   "source": [
    "dispo_alimentaire.columns.to_list()"
   ]
  },
  {
   "cell_type": "markdown",
   "id": "11061b0c",
   "metadata": {},
   "source": [
    "### Afficher les types de données avec df.dtypes"
   ]
  },
  {
   "cell_type": "code",
   "execution_count": 10,
   "id": "bc88cdec",
   "metadata": {},
   "outputs": [
    {
     "data": {
      "text/plain": [
       "Zone                                                              object\n",
       "Produit                                                           object\n",
       "Origine                                                           object\n",
       "Aliments pour animaux                                            float64\n",
       "Autres Utilisations                                              float64\n",
       "Disponibilité alimentaire (Kcal/personne/jour)                   float64\n",
       "Disponibilité alimentaire en quantité (kg/personne/an)           float64\n",
       "Disponibilité de matière grasse en quantité (g/personne/jour)    float64\n",
       "Disponibilité de protéines en quantité (g/personne/jour)         float64\n",
       "Disponibilité intérieure                                         float64\n",
       "Exportations - Quantité                                          float64\n",
       "Importations - Quantité                                          float64\n",
       "Nourriture                                                       float64\n",
       "Pertes                                                           float64\n",
       "Production                                                       float64\n",
       "Semences                                                         float64\n",
       "Traitement                                                       float64\n",
       "Variation de stock                                               float64\n",
       "dtype: object"
      ]
     },
     "execution_count": 10,
     "metadata": {},
     "output_type": "execute_result"
    }
   ],
   "source": [
    "dispo_alimentaire.dtypes"
   ]
  },
  {
   "cell_type": "markdown",
   "id": "7c4d8b31",
   "metadata": {},
   "source": [
    "### Afficher le nombre de lignes et de colonnes avec df.shape"
   ]
  },
  {
   "cell_type": "code",
   "execution_count": 11,
   "id": "4588001a",
   "metadata": {},
   "outputs": [
    {
     "data": {
      "text/plain": [
       "(15605, 18)"
      ]
     },
     "execution_count": 11,
     "metadata": {},
     "output_type": "execute_result"
    }
   ],
   "source": [
    "dispo_alimentaire.shape"
   ]
  },
  {
   "cell_type": "markdown",
   "id": "74fa943e",
   "metadata": {},
   "source": [
    "### Afficher l'en-tête du df avec df.head()"
   ]
  },
  {
   "cell_type": "code",
   "execution_count": 12,
   "id": "9e9df248",
   "metadata": {},
   "outputs": [
    {
     "data": {
      "text/html": [
       "<div>\n",
       "<style scoped>\n",
       "    .dataframe tbody tr th:only-of-type {\n",
       "        vertical-align: middle;\n",
       "    }\n",
       "\n",
       "    .dataframe tbody tr th {\n",
       "        vertical-align: top;\n",
       "    }\n",
       "\n",
       "    .dataframe thead th {\n",
       "        text-align: right;\n",
       "    }\n",
       "</style>\n",
       "<table border=\"1\" class=\"dataframe\">\n",
       "  <thead>\n",
       "    <tr style=\"text-align: right;\">\n",
       "      <th></th>\n",
       "      <th>Zone</th>\n",
       "      <th>Produit</th>\n",
       "      <th>Origine</th>\n",
       "      <th>Aliments pour animaux</th>\n",
       "      <th>Autres Utilisations</th>\n",
       "      <th>Disponibilité alimentaire (Kcal/personne/jour)</th>\n",
       "      <th>Disponibilité alimentaire en quantité (kg/personne/an)</th>\n",
       "      <th>Disponibilité de matière grasse en quantité (g/personne/jour)</th>\n",
       "      <th>Disponibilité de protéines en quantité (g/personne/jour)</th>\n",
       "      <th>Disponibilité intérieure</th>\n",
       "      <th>Exportations - Quantité</th>\n",
       "      <th>Importations - Quantité</th>\n",
       "      <th>Nourriture</th>\n",
       "      <th>Pertes</th>\n",
       "      <th>Production</th>\n",
       "      <th>Semences</th>\n",
       "      <th>Traitement</th>\n",
       "      <th>Variation de stock</th>\n",
       "    </tr>\n",
       "  </thead>\n",
       "  <tbody>\n",
       "    <tr>\n",
       "      <th>0</th>\n",
       "      <td>Afghanistan</td>\n",
       "      <td>Abats Comestible</td>\n",
       "      <td>animale</td>\n",
       "      <td>NaN</td>\n",
       "      <td>NaN</td>\n",
       "      <td>5.0</td>\n",
       "      <td>1.72</td>\n",
       "      <td>0.20</td>\n",
       "      <td>0.77</td>\n",
       "      <td>53.0</td>\n",
       "      <td>NaN</td>\n",
       "      <td>NaN</td>\n",
       "      <td>53.0</td>\n",
       "      <td>NaN</td>\n",
       "      <td>53.0</td>\n",
       "      <td>NaN</td>\n",
       "      <td>NaN</td>\n",
       "      <td>NaN</td>\n",
       "    </tr>\n",
       "    <tr>\n",
       "      <th>1</th>\n",
       "      <td>Afghanistan</td>\n",
       "      <td>Agrumes, Autres</td>\n",
       "      <td>vegetale</td>\n",
       "      <td>NaN</td>\n",
       "      <td>NaN</td>\n",
       "      <td>1.0</td>\n",
       "      <td>1.29</td>\n",
       "      <td>0.01</td>\n",
       "      <td>0.02</td>\n",
       "      <td>41.0</td>\n",
       "      <td>2.0</td>\n",
       "      <td>40.0</td>\n",
       "      <td>39.0</td>\n",
       "      <td>2.0</td>\n",
       "      <td>3.0</td>\n",
       "      <td>NaN</td>\n",
       "      <td>NaN</td>\n",
       "      <td>NaN</td>\n",
       "    </tr>\n",
       "    <tr>\n",
       "      <th>2</th>\n",
       "      <td>Afghanistan</td>\n",
       "      <td>Aliments pour enfants</td>\n",
       "      <td>vegetale</td>\n",
       "      <td>NaN</td>\n",
       "      <td>NaN</td>\n",
       "      <td>1.0</td>\n",
       "      <td>0.06</td>\n",
       "      <td>0.01</td>\n",
       "      <td>0.03</td>\n",
       "      <td>2.0</td>\n",
       "      <td>NaN</td>\n",
       "      <td>2.0</td>\n",
       "      <td>2.0</td>\n",
       "      <td>NaN</td>\n",
       "      <td>NaN</td>\n",
       "      <td>NaN</td>\n",
       "      <td>NaN</td>\n",
       "      <td>NaN</td>\n",
       "    </tr>\n",
       "    <tr>\n",
       "      <th>3</th>\n",
       "      <td>Afghanistan</td>\n",
       "      <td>Ananas</td>\n",
       "      <td>vegetale</td>\n",
       "      <td>NaN</td>\n",
       "      <td>NaN</td>\n",
       "      <td>0.0</td>\n",
       "      <td>0.00</td>\n",
       "      <td>NaN</td>\n",
       "      <td>NaN</td>\n",
       "      <td>0.0</td>\n",
       "      <td>NaN</td>\n",
       "      <td>0.0</td>\n",
       "      <td>0.0</td>\n",
       "      <td>NaN</td>\n",
       "      <td>NaN</td>\n",
       "      <td>NaN</td>\n",
       "      <td>NaN</td>\n",
       "      <td>NaN</td>\n",
       "    </tr>\n",
       "    <tr>\n",
       "      <th>4</th>\n",
       "      <td>Afghanistan</td>\n",
       "      <td>Bananes</td>\n",
       "      <td>vegetale</td>\n",
       "      <td>NaN</td>\n",
       "      <td>NaN</td>\n",
       "      <td>4.0</td>\n",
       "      <td>2.70</td>\n",
       "      <td>0.02</td>\n",
       "      <td>0.05</td>\n",
       "      <td>82.0</td>\n",
       "      <td>NaN</td>\n",
       "      <td>82.0</td>\n",
       "      <td>82.0</td>\n",
       "      <td>NaN</td>\n",
       "      <td>NaN</td>\n",
       "      <td>NaN</td>\n",
       "      <td>NaN</td>\n",
       "      <td>NaN</td>\n",
       "    </tr>\n",
       "  </tbody>\n",
       "</table>\n",
       "</div>"
      ],
      "text/plain": [
       "          Zone                Produit   Origine  Aliments pour animaux  \\\n",
       "0  Afghanistan       Abats Comestible   animale                    NaN   \n",
       "1  Afghanistan        Agrumes, Autres  vegetale                    NaN   \n",
       "2  Afghanistan  Aliments pour enfants  vegetale                    NaN   \n",
       "3  Afghanistan                 Ananas  vegetale                    NaN   \n",
       "4  Afghanistan                Bananes  vegetale                    NaN   \n",
       "\n",
       "   Autres Utilisations  Disponibilité alimentaire (Kcal/personne/jour)  \\\n",
       "0                  NaN                                             5.0   \n",
       "1                  NaN                                             1.0   \n",
       "2                  NaN                                             1.0   \n",
       "3                  NaN                                             0.0   \n",
       "4                  NaN                                             4.0   \n",
       "\n",
       "   Disponibilité alimentaire en quantité (kg/personne/an)  \\\n",
       "0                                               1.72        \n",
       "1                                               1.29        \n",
       "2                                               0.06        \n",
       "3                                               0.00        \n",
       "4                                               2.70        \n",
       "\n",
       "   Disponibilité de matière grasse en quantité (g/personne/jour)  \\\n",
       "0                                               0.20               \n",
       "1                                               0.01               \n",
       "2                                               0.01               \n",
       "3                                                NaN               \n",
       "4                                               0.02               \n",
       "\n",
       "   Disponibilité de protéines en quantité (g/personne/jour)  \\\n",
       "0                                               0.77          \n",
       "1                                               0.02          \n",
       "2                                               0.03          \n",
       "3                                                NaN          \n",
       "4                                               0.05          \n",
       "\n",
       "   Disponibilité intérieure  Exportations - Quantité  Importations - Quantité  \\\n",
       "0                      53.0                      NaN                      NaN   \n",
       "1                      41.0                      2.0                     40.0   \n",
       "2                       2.0                      NaN                      2.0   \n",
       "3                       0.0                      NaN                      0.0   \n",
       "4                      82.0                      NaN                     82.0   \n",
       "\n",
       "   Nourriture  Pertes  Production  Semences  Traitement  Variation de stock  \n",
       "0        53.0     NaN        53.0       NaN         NaN                 NaN  \n",
       "1        39.0     2.0         3.0       NaN         NaN                 NaN  \n",
       "2         2.0     NaN         NaN       NaN         NaN                 NaN  \n",
       "3         0.0     NaN         NaN       NaN         NaN                 NaN  \n",
       "4        82.0     NaN         NaN       NaN         NaN                 NaN  "
      ]
     },
     "execution_count": 12,
     "metadata": {},
     "output_type": "execute_result"
    }
   ],
   "source": [
    "dispo_alimentaire.head()"
   ]
  },
  {
   "cell_type": "markdown",
   "id": "ecec3b8c",
   "metadata": {},
   "source": [
    "### Afficher les données manquantes avec df.isnull().any()"
   ]
  },
  {
   "cell_type": "code",
   "execution_count": 13,
   "id": "599fa301",
   "metadata": {},
   "outputs": [
    {
     "data": {
      "text/plain": [
       "Zone                                                             False\n",
       "Produit                                                          False\n",
       "Origine                                                          False\n",
       "Aliments pour animaux                                             True\n",
       "Autres Utilisations                                               True\n",
       "Disponibilité alimentaire (Kcal/personne/jour)                    True\n",
       "Disponibilité alimentaire en quantité (kg/personne/an)            True\n",
       "Disponibilité de matière grasse en quantité (g/personne/jour)     True\n",
       "Disponibilité de protéines en quantité (g/personne/jour)          True\n",
       "Disponibilité intérieure                                          True\n",
       "Exportations - Quantité                                           True\n",
       "Importations - Quantité                                           True\n",
       "Nourriture                                                        True\n",
       "Pertes                                                            True\n",
       "Production                                                        True\n",
       "Semences                                                          True\n",
       "Traitement                                                        True\n",
       "Variation de stock                                                True\n",
       "dtype: bool"
      ]
     },
     "execution_count": 13,
     "metadata": {},
     "output_type": "execute_result"
    }
   ],
   "source": [
    "dispo_alimentaire.isnull().any()"
   ]
  },
  {
   "cell_type": "markdown",
   "id": "b0e09a79",
   "metadata": {},
   "source": [
    "### Afficher le nombre de données manquantes avec df.isnull().sum()"
   ]
  },
  {
   "cell_type": "code",
   "execution_count": 14,
   "id": "5f25a286",
   "metadata": {},
   "outputs": [
    {
     "data": {
      "text/plain": [
       "Zone                                                                 0\n",
       "Produit                                                              0\n",
       "Origine                                                              0\n",
       "Aliments pour animaux                                            12885\n",
       "Autres Utilisations                                              10109\n",
       "Disponibilité alimentaire (Kcal/personne/jour)                    1364\n",
       "Disponibilité alimentaire en quantité (kg/personne/an)            1590\n",
       "Disponibilité de matière grasse en quantité (g/personne/jour)     3811\n",
       "Disponibilité de protéines en quantité (g/personne/jour)          4044\n",
       "Disponibilité intérieure                                           223\n",
       "Exportations - Quantité                                           3379\n",
       "Importations - Quantité                                            753\n",
       "Nourriture                                                        1590\n",
       "Pertes                                                           11327\n",
       "Production                                                        6425\n",
       "Semences                                                         13514\n",
       "Traitement                                                       13313\n",
       "Variation de stock                                                8829\n",
       "dtype: int64"
      ]
     },
     "execution_count": 14,
     "metadata": {},
     "output_type": "execute_result"
    }
   ],
   "source": [
    "dispo_alimentaire.isnull().sum()"
   ]
  },
  {
   "cell_type": "markdown",
   "id": "2e3afde4",
   "metadata": {},
   "source": [
    "## DF population"
   ]
  },
  {
   "cell_type": "markdown",
   "id": "26053ebc",
   "metadata": {},
   "source": [
    "### Afficher les colonnes avec df.columns"
   ]
  },
  {
   "cell_type": "code",
   "execution_count": 15,
   "id": "44ee1f57",
   "metadata": {},
   "outputs": [
    {
     "data": {
      "text/plain": [
       "Index(['Zone', 'Année', 'Valeur'], dtype='object')"
      ]
     },
     "execution_count": 15,
     "metadata": {},
     "output_type": "execute_result"
    }
   ],
   "source": [
    "population.columns"
   ]
  },
  {
   "cell_type": "markdown",
   "id": "9a2bf91d",
   "metadata": {},
   "source": [
    "### Afficher les types de données avec df. dtypes"
   ]
  },
  {
   "cell_type": "code",
   "execution_count": 16,
   "id": "3cd19feb",
   "metadata": {},
   "outputs": [
    {
     "data": {
      "text/plain": [
       "Zone       object\n",
       "Année       int64\n",
       "Valeur    float64\n",
       "dtype: object"
      ]
     },
     "execution_count": 16,
     "metadata": {},
     "output_type": "execute_result"
    }
   ],
   "source": [
    "population.dtypes"
   ]
  },
  {
   "cell_type": "markdown",
   "id": "5cf87fa4",
   "metadata": {},
   "source": [
    "### Afficher le nombre de lignes et de colonnes avec df.shape"
   ]
  },
  {
   "cell_type": "code",
   "execution_count": 17,
   "id": "693c79e0",
   "metadata": {},
   "outputs": [
    {
     "data": {
      "text/plain": [
       "(1416, 3)"
      ]
     },
     "execution_count": 17,
     "metadata": {},
     "output_type": "execute_result"
    }
   ],
   "source": [
    "population.shape"
   ]
  },
  {
   "cell_type": "markdown",
   "id": "4fa9b2c8",
   "metadata": {},
   "source": [
    "### Afficher l'en-tête du df avec df.head()"
   ]
  },
  {
   "cell_type": "code",
   "execution_count": 18,
   "id": "905a33df",
   "metadata": {},
   "outputs": [
    {
     "data": {
      "text/html": [
       "<div>\n",
       "<style scoped>\n",
       "    .dataframe tbody tr th:only-of-type {\n",
       "        vertical-align: middle;\n",
       "    }\n",
       "\n",
       "    .dataframe tbody tr th {\n",
       "        vertical-align: top;\n",
       "    }\n",
       "\n",
       "    .dataframe thead th {\n",
       "        text-align: right;\n",
       "    }\n",
       "</style>\n",
       "<table border=\"1\" class=\"dataframe\">\n",
       "  <thead>\n",
       "    <tr style=\"text-align: right;\">\n",
       "      <th></th>\n",
       "      <th>Zone</th>\n",
       "      <th>Année</th>\n",
       "      <th>Valeur</th>\n",
       "    </tr>\n",
       "  </thead>\n",
       "  <tbody>\n",
       "    <tr>\n",
       "      <th>0</th>\n",
       "      <td>Afghanistan</td>\n",
       "      <td>2013</td>\n",
       "      <td>32269.589</td>\n",
       "    </tr>\n",
       "    <tr>\n",
       "      <th>1</th>\n",
       "      <td>Afghanistan</td>\n",
       "      <td>2014</td>\n",
       "      <td>33370.794</td>\n",
       "    </tr>\n",
       "    <tr>\n",
       "      <th>2</th>\n",
       "      <td>Afghanistan</td>\n",
       "      <td>2015</td>\n",
       "      <td>34413.603</td>\n",
       "    </tr>\n",
       "    <tr>\n",
       "      <th>3</th>\n",
       "      <td>Afghanistan</td>\n",
       "      <td>2016</td>\n",
       "      <td>35383.032</td>\n",
       "    </tr>\n",
       "    <tr>\n",
       "      <th>4</th>\n",
       "      <td>Afghanistan</td>\n",
       "      <td>2017</td>\n",
       "      <td>36296.113</td>\n",
       "    </tr>\n",
       "  </tbody>\n",
       "</table>\n",
       "</div>"
      ],
      "text/plain": [
       "          Zone  Année     Valeur\n",
       "0  Afghanistan   2013  32269.589\n",
       "1  Afghanistan   2014  33370.794\n",
       "2  Afghanistan   2015  34413.603\n",
       "3  Afghanistan   2016  35383.032\n",
       "4  Afghanistan   2017  36296.113"
      ]
     },
     "execution_count": 18,
     "metadata": {},
     "output_type": "execute_result"
    }
   ],
   "source": [
    "population.head()"
   ]
  },
  {
   "cell_type": "markdown",
   "id": "247c698f",
   "metadata": {},
   "source": [
    "### Modifier le nom d'une colonne avec df.rename"
   ]
  },
  {
   "cell_type": "code",
   "execution_count": 19,
   "id": "d82137bd",
   "metadata": {},
   "outputs": [],
   "source": [
    "population.rename(columns={'Valeur' : 'Population_millions'}, inplace=True)"
   ]
  },
  {
   "cell_type": "markdown",
   "id": "7ced94b3",
   "metadata": {},
   "source": [
    "### Conversion de la colonne 'Population_millions' en millions"
   ]
  },
  {
   "cell_type": "code",
   "execution_count": 20,
   "id": "be676a42",
   "metadata": {},
   "outputs": [],
   "source": [
    "population_en_millions = population['Population_millions']*1000\n",
    "population['Population_millions']=population_en_millions"
   ]
  },
  {
   "cell_type": "code",
   "execution_count": 21,
   "id": "8d62f993",
   "metadata": {},
   "outputs": [
    {
     "data": {
      "text/html": [
       "<div>\n",
       "<style scoped>\n",
       "    .dataframe tbody tr th:only-of-type {\n",
       "        vertical-align: middle;\n",
       "    }\n",
       "\n",
       "    .dataframe tbody tr th {\n",
       "        vertical-align: top;\n",
       "    }\n",
       "\n",
       "    .dataframe thead th {\n",
       "        text-align: right;\n",
       "    }\n",
       "</style>\n",
       "<table border=\"1\" class=\"dataframe\">\n",
       "  <thead>\n",
       "    <tr style=\"text-align: right;\">\n",
       "      <th></th>\n",
       "      <th>Zone</th>\n",
       "      <th>Année</th>\n",
       "      <th>Population_millions</th>\n",
       "    </tr>\n",
       "  </thead>\n",
       "  <tbody>\n",
       "    <tr>\n",
       "      <th>0</th>\n",
       "      <td>Afghanistan</td>\n",
       "      <td>2013</td>\n",
       "      <td>32269589.0</td>\n",
       "    </tr>\n",
       "    <tr>\n",
       "      <th>1</th>\n",
       "      <td>Afghanistan</td>\n",
       "      <td>2014</td>\n",
       "      <td>33370794.0</td>\n",
       "    </tr>\n",
       "  </tbody>\n",
       "</table>\n",
       "</div>"
      ],
      "text/plain": [
       "          Zone  Année  Population_millions\n",
       "0  Afghanistan   2013           32269589.0\n",
       "1  Afghanistan   2014           33370794.0"
      ]
     },
     "execution_count": 21,
     "metadata": {},
     "output_type": "execute_result"
    }
   ],
   "source": [
    "population.head(2)"
   ]
  },
  {
   "cell_type": "markdown",
   "id": "704d038b",
   "metadata": {},
   "source": [
    "### Afficher les données manquantes avec df.isnull().any()"
   ]
  },
  {
   "cell_type": "code",
   "execution_count": 22,
   "id": "96e5b4c2",
   "metadata": {},
   "outputs": [
    {
     "data": {
      "text/plain": [
       "Zone                   False\n",
       "Année                  False\n",
       "Population_millions    False\n",
       "dtype: bool"
      ]
     },
     "execution_count": 22,
     "metadata": {},
     "output_type": "execute_result"
    }
   ],
   "source": [
    "population.isnull().any()"
   ]
  },
  {
   "cell_type": "markdown",
   "id": "c4423ef9",
   "metadata": {},
   "source": [
    "## DF sous_nutrition"
   ]
  },
  {
   "cell_type": "markdown",
   "id": "f3e33761",
   "metadata": {},
   "source": [
    "### Afficher les colonnes df.columns"
   ]
  },
  {
   "cell_type": "code",
   "execution_count": 23,
   "id": "2ec1ca59",
   "metadata": {},
   "outputs": [
    {
     "data": {
      "text/plain": [
       "Index(['Zone', 'Année', 'Valeur'], dtype='object')"
      ]
     },
     "execution_count": 23,
     "metadata": {},
     "output_type": "execute_result"
    }
   ],
   "source": [
    "sous_nutrition.columns"
   ]
  },
  {
   "cell_type": "markdown",
   "id": "3736e114",
   "metadata": {},
   "source": [
    "### Afficher les types de données avec df.dtypes"
   ]
  },
  {
   "cell_type": "code",
   "execution_count": 24,
   "id": "abee969c",
   "metadata": {},
   "outputs": [
    {
     "data": {
      "text/plain": [
       "Zone      object\n",
       "Année     object\n",
       "Valeur    object\n",
       "dtype: object"
      ]
     },
     "execution_count": 24,
     "metadata": {},
     "output_type": "execute_result"
    }
   ],
   "source": [
    "sous_nutrition.dtypes"
   ]
  },
  {
   "cell_type": "markdown",
   "id": "e4d6c362",
   "metadata": {},
   "source": [
    "### Afficher l'en-tête du df avec df.head()"
   ]
  },
  {
   "cell_type": "code",
   "execution_count": 25,
   "id": "2643a858",
   "metadata": {},
   "outputs": [
    {
     "data": {
      "text/html": [
       "<div>\n",
       "<style scoped>\n",
       "    .dataframe tbody tr th:only-of-type {\n",
       "        vertical-align: middle;\n",
       "    }\n",
       "\n",
       "    .dataframe tbody tr th {\n",
       "        vertical-align: top;\n",
       "    }\n",
       "\n",
       "    .dataframe thead th {\n",
       "        text-align: right;\n",
       "    }\n",
       "</style>\n",
       "<table border=\"1\" class=\"dataframe\">\n",
       "  <thead>\n",
       "    <tr style=\"text-align: right;\">\n",
       "      <th></th>\n",
       "      <th>Zone</th>\n",
       "      <th>Année</th>\n",
       "      <th>Valeur</th>\n",
       "    </tr>\n",
       "  </thead>\n",
       "  <tbody>\n",
       "    <tr>\n",
       "      <th>0</th>\n",
       "      <td>Afghanistan</td>\n",
       "      <td>2012-2014</td>\n",
       "      <td>8.6</td>\n",
       "    </tr>\n",
       "    <tr>\n",
       "      <th>1</th>\n",
       "      <td>Afghanistan</td>\n",
       "      <td>2013-2015</td>\n",
       "      <td>8.8</td>\n",
       "    </tr>\n",
       "    <tr>\n",
       "      <th>2</th>\n",
       "      <td>Afghanistan</td>\n",
       "      <td>2014-2016</td>\n",
       "      <td>8.9</td>\n",
       "    </tr>\n",
       "    <tr>\n",
       "      <th>3</th>\n",
       "      <td>Afghanistan</td>\n",
       "      <td>2015-2017</td>\n",
       "      <td>9.7</td>\n",
       "    </tr>\n",
       "    <tr>\n",
       "      <th>4</th>\n",
       "      <td>Afghanistan</td>\n",
       "      <td>2016-2018</td>\n",
       "      <td>10.5</td>\n",
       "    </tr>\n",
       "  </tbody>\n",
       "</table>\n",
       "</div>"
      ],
      "text/plain": [
       "          Zone      Année Valeur\n",
       "0  Afghanistan  2012-2014    8.6\n",
       "1  Afghanistan  2013-2015    8.8\n",
       "2  Afghanistan  2014-2016    8.9\n",
       "3  Afghanistan  2015-2017    9.7\n",
       "4  Afghanistan  2016-2018   10.5"
      ]
     },
     "execution_count": 25,
     "metadata": {},
     "output_type": "execute_result"
    }
   ],
   "source": [
    "sous_nutrition.head()"
   ]
  },
  {
   "cell_type": "markdown",
   "id": "073fb663",
   "metadata": {},
   "source": [
    "### Modifier le nom d'une colonne avec df.rename"
   ]
  },
  {
   "cell_type": "code",
   "execution_count": 26,
   "id": "f7e98b7b",
   "metadata": {},
   "outputs": [],
   "source": [
    "sous_nutrition.rename(columns={'Valeur' : 'Population_ss_nut_millions'}, inplace = True)"
   ]
  },
  {
   "cell_type": "markdown",
   "id": "951ec619",
   "metadata": {},
   "source": [
    "### Remplacer une valeur avec df.replace"
   ]
  },
  {
   "cell_type": "code",
   "execution_count": 27,
   "id": "9f2c2194",
   "metadata": {},
   "outputs": [],
   "source": [
    "sous_nutrition.Population_ss_nut_millions.replace('<0.1', 0, inplace= True)"
   ]
  },
  {
   "cell_type": "markdown",
   "id": "8a7643a9",
   "metadata": {},
   "source": [
    "### Modifier le type d'une donnée avec df.astype"
   ]
  },
  {
   "cell_type": "code",
   "execution_count": 28,
   "id": "aa6acbdf",
   "metadata": {},
   "outputs": [],
   "source": [
    "sous_nutrition['Population_ss_nut_millions'] = sous_nutrition['Population_ss_nut_millions'].astype(float, errors = 'raise')"
   ]
  },
  {
   "cell_type": "code",
   "execution_count": 29,
   "id": "4e9a7186",
   "metadata": {},
   "outputs": [
    {
     "data": {
      "text/plain": [
       "Zone                           object\n",
       "Année                          object\n",
       "Population_ss_nut_millions    float64\n",
       "dtype: object"
      ]
     },
     "execution_count": 29,
     "metadata": {},
     "output_type": "execute_result"
    }
   ],
   "source": [
    "sous_nutrition.dtypes"
   ]
  },
  {
   "cell_type": "markdown",
   "id": "3d9e3a34",
   "metadata": {},
   "source": [
    "### Afficher les données manquantes avec df.isnull().any()"
   ]
  },
  {
   "cell_type": "code",
   "execution_count": 30,
   "id": "66510b36",
   "metadata": {},
   "outputs": [
    {
     "data": {
      "text/plain": [
       "Zone                          False\n",
       "Année                         False\n",
       "Population_ss_nut_millions     True\n",
       "dtype: bool"
      ]
     },
     "execution_count": 30,
     "metadata": {},
     "output_type": "execute_result"
    }
   ],
   "source": [
    "sous_nutrition.isnull().any()"
   ]
  },
  {
   "cell_type": "markdown",
   "id": "c6f8e685",
   "metadata": {},
   "source": [
    "### Remplacer les valeurs manquantes avec df.fillna"
   ]
  },
  {
   "cell_type": "code",
   "execution_count": 31,
   "id": "dbba2e0c",
   "metadata": {},
   "outputs": [],
   "source": [
    "sous_nutrition.fillna(value = 0, inplace=True)"
   ]
  },
  {
   "cell_type": "markdown",
   "id": "f33f805a",
   "metadata": {},
   "source": [
    "### Conversion de la colonne 'Population_ss_nut_millions' en millions"
   ]
  },
  {
   "cell_type": "code",
   "execution_count": 32,
   "id": "ab66e226",
   "metadata": {},
   "outputs": [],
   "source": [
    "sous_nutrition_en_millions = sous_nutrition['Population_ss_nut_millions']*1000000\n",
    "sous_nutrition['Population_ss_nut_millions'] = sous_nutrition_en_millions"
   ]
  },
  {
   "cell_type": "code",
   "execution_count": 33,
   "id": "fe994e90",
   "metadata": {},
   "outputs": [
    {
     "data": {
      "text/html": [
       "<div>\n",
       "<style scoped>\n",
       "    .dataframe tbody tr th:only-of-type {\n",
       "        vertical-align: middle;\n",
       "    }\n",
       "\n",
       "    .dataframe tbody tr th {\n",
       "        vertical-align: top;\n",
       "    }\n",
       "\n",
       "    .dataframe thead th {\n",
       "        text-align: right;\n",
       "    }\n",
       "</style>\n",
       "<table border=\"1\" class=\"dataframe\">\n",
       "  <thead>\n",
       "    <tr style=\"text-align: right;\">\n",
       "      <th></th>\n",
       "      <th>Zone</th>\n",
       "      <th>Année</th>\n",
       "      <th>Population_ss_nut_millions</th>\n",
       "    </tr>\n",
       "  </thead>\n",
       "  <tbody>\n",
       "    <tr>\n",
       "      <th>0</th>\n",
       "      <td>Afghanistan</td>\n",
       "      <td>2012-2014</td>\n",
       "      <td>8600000.0</td>\n",
       "    </tr>\n",
       "    <tr>\n",
       "      <th>1</th>\n",
       "      <td>Afghanistan</td>\n",
       "      <td>2013-2015</td>\n",
       "      <td>8800000.0</td>\n",
       "    </tr>\n",
       "  </tbody>\n",
       "</table>\n",
       "</div>"
      ],
      "text/plain": [
       "          Zone      Année  Population_ss_nut_millions\n",
       "0  Afghanistan  2012-2014                   8600000.0\n",
       "1  Afghanistan  2013-2015                   8800000.0"
      ]
     },
     "execution_count": 33,
     "metadata": {},
     "output_type": "execute_result"
    }
   ],
   "source": [
    "sous_nutrition.head(2)"
   ]
  },
  {
   "cell_type": "markdown",
   "id": "23862d62",
   "metadata": {},
   "source": [
    "# DEMANDE DE MARC N°1\n",
    "\n",
    "##### Pour l'année 2017, quelle est la proportion de personnes en état de sous-nutrition ? "
   ]
  },
  {
   "cell_type": "markdown",
   "id": "46c620b0",
   "metadata": {},
   "source": [
    "## Localiser des valeurs avec df.loc et les modifier\n",
    "\n",
    "##### Le calcul porte sur la moyenne de l'intervalle 2016-2018 que l'on peut résumer par 2017."
   ]
  },
  {
   "cell_type": "code",
   "execution_count": 35,
   "id": "d401985b",
   "metadata": {},
   "outputs": [],
   "source": [
    "sous_nutrition.loc[sous_nutrition['Année'] == '2016-2018', 'Année'] =2017"
   ]
  },
  {
   "cell_type": "code",
   "execution_count": 36,
   "id": "6a730672",
   "metadata": {},
   "outputs": [],
   "source": [
    "sous_nut_2017 = sous_nutrition.loc[sous_nutrition['Année'] == 2017]"
   ]
  },
  {
   "cell_type": "code",
   "execution_count": 37,
   "id": "278bd2a9",
   "metadata": {},
   "outputs": [],
   "source": [
    "population_2017 = population.loc[population['Année'] == 2017]"
   ]
  },
  {
   "cell_type": "markdown",
   "id": "38256fe4",
   "metadata": {},
   "source": [
    "## Calcul de la proportion des personnes en état de sous-nutrition avec df.sum() et df.pd.merge"
   ]
  },
  {
   "cell_type": "markdown",
   "id": "7f33495d",
   "metadata": {},
   "source": [
    "### Création d'un DF avec les valeurs de 2017 (sous_nutrition_2017 et population_2017)"
   ]
  },
  {
   "cell_type": "code",
   "execution_count": 38,
   "id": "00ec8c07",
   "metadata": {},
   "outputs": [
    {
     "data": {
      "text/html": [
       "<div>\n",
       "<style scoped>\n",
       "    .dataframe tbody tr th:only-of-type {\n",
       "        vertical-align: middle;\n",
       "    }\n",
       "\n",
       "    .dataframe tbody tr th {\n",
       "        vertical-align: top;\n",
       "    }\n",
       "\n",
       "    .dataframe thead th {\n",
       "        text-align: right;\n",
       "    }\n",
       "</style>\n",
       "<table border=\"1\" class=\"dataframe\">\n",
       "  <thead>\n",
       "    <tr style=\"text-align: right;\">\n",
       "      <th></th>\n",
       "      <th>Zone</th>\n",
       "      <th>Année</th>\n",
       "      <th>Population_ss_nut_millions</th>\n",
       "      <th>Population_millions</th>\n",
       "    </tr>\n",
       "  </thead>\n",
       "  <tbody>\n",
       "    <tr>\n",
       "      <th>0</th>\n",
       "      <td>Afghanistan</td>\n",
       "      <td>2017</td>\n",
       "      <td>10500000.0</td>\n",
       "      <td>36296113.0</td>\n",
       "    </tr>\n",
       "    <tr>\n",
       "      <th>1</th>\n",
       "      <td>Afrique du Sud</td>\n",
       "      <td>2017</td>\n",
       "      <td>3100000.0</td>\n",
       "      <td>57009756.0</td>\n",
       "    </tr>\n",
       "  </tbody>\n",
       "</table>\n",
       "</div>"
      ],
      "text/plain": [
       "             Zone Année  Population_ss_nut_millions  Population_millions\n",
       "0     Afghanistan  2017                  10500000.0           36296113.0\n",
       "1  Afrique du Sud  2017                   3100000.0           57009756.0"
      ]
     },
     "execution_count": 38,
     "metadata": {},
     "output_type": "execute_result"
    }
   ],
   "source": [
    "pop_et_ss_nut_2017 = pd.merge(sous_nut_2017, population_2017)\n",
    "pop_et_ss_nut_2017.head(2)"
   ]
  },
  {
   "cell_type": "markdown",
   "id": "01698124",
   "metadata": {},
   "source": [
    "### Calcul de la proportion des personnes en état de sous-nutrition pour l'année 2017\n",
    "\n",
    "##### Formule : (total_pop_ss_nut / total_pop_2017)*100"
   ]
  },
  {
   "cell_type": "code",
   "execution_count": 39,
   "id": "edc08914",
   "metadata": {},
   "outputs": [
    {
     "name": "stdout",
     "output_type": "stream",
     "text": [
      "7.10 %\n"
     ]
    }
   ],
   "source": [
    "pers_sous_nut_2017 = round((pop_et_ss_nut_2017['Population_ss_nut_millions'].sum()/\n",
    "                           pop_et_ss_nut_2017['Population_millions'].sum())*100,2)\n",
    "print ('{:.2f}'.format(pers_sous_nut_2017), '%')"
   ]
  },
  {
   "cell_type": "markdown",
   "id": "5af31737",
   "metadata": {},
   "source": [
    "##### 7.10% de la population mondiale est en état de sous-nutrition en 2017."
   ]
  },
  {
   "cell_type": "code",
   "execution_count": 44,
   "id": "ee5aede6",
   "metadata": {},
   "outputs": [
    {
     "name": "stdout",
     "output_type": "stream",
     "text": [
      "La population mondiale en 2017 est de 7543798779.0 de personnes.\n"
     ]
    }
   ],
   "source": [
    "total_pop_2017 = pop_et_ss_nut_2017['Population_millions'].sum()\n",
    "print('La population mondiale en 2017 est de', (total_pop_2017), 'de personnes.')"
   ]
  },
  {
   "cell_type": "code",
   "execution_count": 45,
   "id": "b39e7ae4",
   "metadata": {},
   "outputs": [
    {
     "name": "stdout",
     "output_type": "stream",
     "text": [
      "535700000.0 millions de personnes sont en état de sous-nutrition en 2017.\n"
     ]
    }
   ],
   "source": [
    "total_ss_nut_2017 = pop_et_ss_nut_2017['Population_ss_nut_millions'].sum()\n",
    "print((total_ss_nut_2017), 'millions de personnes sont en état de sous-nutrition en 2017.')"
   ]
  },
  {
   "cell_type": "markdown",
   "id": "f0ac6e28",
   "metadata": {},
   "source": [
    "### Calcul de la proportion des personnes en état de sous-nutrition pour l'année 2013 - 2014 - 2015 -2016"
   ]
  },
  {
   "cell_type": "markdown",
   "id": "497accc0",
   "metadata": {},
   "source": [
    "#### Année 2013"
   ]
  },
  {
   "cell_type": "code",
   "execution_count": 59,
   "id": "e4d618e6",
   "metadata": {},
   "outputs": [
    {
     "name": "stdout",
     "output_type": "stream",
     "text": [
      "7.33 %\n"
     ]
    }
   ],
   "source": [
    "sous_nutrition.loc[sous_nutrition['Année'] == '2012-2014', 'Année'] = 2013\n",
    "sous_nut_2013 = sous_nutrition.loc[sous_nutrition['Année'] == 2013]\n",
    "population_2013 = population.loc[population['Année'] == 2013]\n",
    "pop_et_ss_nut_2013 = pd.merge(sous_nut_2013, population_2013)\n",
    "pers_sous_nut_2013 = round((pop_et_ss_nut_2013['Population_ss_nut_millions'].sum()\n",
    "                            /pop_et_ss_nut_2013['Population_millions'].sum())*100,2)\n",
    "print('{:.2f}'.format(pers_sous_nut_2013), '%')"
   ]
  },
  {
   "cell_type": "markdown",
   "id": "9501044e",
   "metadata": {},
   "source": [
    "#### Année 2014"
   ]
  },
  {
   "cell_type": "code",
   "execution_count": 60,
   "id": "11d6ecd1",
   "metadata": {},
   "outputs": [
    {
     "name": "stdout",
     "output_type": "stream",
     "text": [
      "7.18 %\n"
     ]
    }
   ],
   "source": [
    "sous_nutrition.loc[sous_nutrition['Année'] == '2013-2015', 'Année'] = 2014\n",
    "sous_nut_2014 = sous_nutrition.loc[sous_nutrition['Année'] == 2014]\n",
    "population_2014 = population.loc[population['Année'] == 2014]\n",
    "pop_et_ss_nut_2014 = pd.merge(population_2014, sous_nut_2014)\n",
    "pers_sous_nut_2014 = round ((pop_et_ss_nut_2014['Population_ss_nut_millions'].sum()\n",
    "                            /pop_et_ss_nut_2014['Population_millions'].sum())*100,2)\n",
    "print('{:.2f}'.format(pers_sous_nut_2014), '%')"
   ]
  },
  {
   "cell_type": "markdown",
   "id": "8906e3bb",
   "metadata": {},
   "source": [
    "#### Année 2015"
   ]
  },
  {
   "cell_type": "code",
   "execution_count": 61,
   "id": "d886e0ec",
   "metadata": {},
   "outputs": [
    {
     "name": "stdout",
     "output_type": "stream",
     "text": [
      "7.11 %\n"
     ]
    }
   ],
   "source": [
    "sous_nutrition.loc[sous_nutrition['Année'] == '2014-2016', 'Année'] = 2015\n",
    "sous_nut_2015 = sous_nutrition.loc[sous_nutrition['Année'] == 2015]\n",
    "population_2015 = population.loc[population['Année'] == 2015]\n",
    "pop_et_ss_nut_2015 = pd.merge(population_2015, sous_nut_2015)\n",
    "pers_sous_nut_2015 = round((pop_et_ss_nut_2015['Population_ss_nut_millions'].sum()\n",
    "                           /pop_et_ss_nut_2015['Population_millions'].sum())*100,2)\n",
    "print('{:.2f}'.format(pers_sous_nut_2015), '%')"
   ]
  },
  {
   "cell_type": "markdown",
   "id": "adaa31b0",
   "metadata": {},
   "source": [
    "#### Année 2016"
   ]
  },
  {
   "cell_type": "code",
   "execution_count": 62,
   "id": "361fb750",
   "metadata": {},
   "outputs": [
    {
     "name": "stdout",
     "output_type": "stream",
     "text": [
      "7.09 %\n"
     ]
    }
   ],
   "source": [
    "sous_nutrition.loc[sous_nutrition['Année'] == '2015-2017', 'Année'] = 2016\n",
    "sous_nut_2016 = sous_nutrition.loc[sous_nutrition['Année']== 2016] \n",
    "population_2016 = population.loc[population['Année'] == 2016]\n",
    "pop_et_ss_nut_2016 = pd.merge(population_2016, sous_nut_2016)\n",
    "pers_sous_nut_2016 = round((pop_et_ss_nut_2016['Population_ss_nut_millions'].sum()\n",
    "                           /pop_et_ss_nut_2016['Population_millions'].sum())*100,2)\n",
    "print('{:.2f}'.format(pers_sous_nut_2016), '%')"
   ]
  },
  {
   "cell_type": "markdown",
   "id": "d287c7c9",
   "metadata": {},
   "source": [
    "### Graphique représentant l'évolution de la sous-nutrition dans le monde"
   ]
  },
  {
   "cell_type": "code",
   "execution_count": 162,
   "id": "93e3bc97",
   "metadata": {
    "scrolled": true
   },
   "outputs": [
    {
     "data": {
      "image/png": "[encoded data removed]",
      "text/plain": [
       "<Figure size 720x432 with 1 Axes>"
      ]
     },
     "metadata": {
      "needs_background": "light"
     },
     "output_type": "display_data"
    }
   ],
   "source": [
    "plt.figure(figsize=(10,6))\n",
    "pers_ss_nut_2013_2017 = [pers_sous_nut_2013, pers_sous_nut_2014, pers_sous_nut_2015, pers_sous_nut_2016,pers_sous_nut_2017]\n",
    "annee_pers_ss_nut = [2013,2014,2015,2016,2017]\n",
    "plt.plot(annee_pers_ss_nut,pers_ss_nut_2013_2017, 'bo-' )\n",
    "plt.xlim(2013,2017)\n",
    "plt.xlabel('Année')\n",
    "plt.ylabel('Proportion des personnes en état de sous-nutrition')\n",
    "plt.grid(False)\n",
    "plt.title('Etat de la sous-nutrition dans le monde depuis 2013', fontsize=15, pad=20)\n",
    "plt.show()"
   ]
  },
  {
   "cell_type": "markdown",
   "id": "58d25a3d",
   "metadata": {},
   "source": [
    "# DEMANDE DE MARC N°2\n",
    "\n",
    "##### Pour l'année 2017, quel est le nombre théorique de personnes qui pourraient être nourries ?"
   ]
  },
  {
   "cell_type": "markdown",
   "id": "978ed7e6",
   "metadata": {},
   "source": [
    "## Faire une jointure entre les tables population et dispo_alimentaire"
   ]
  },
  {
   "cell_type": "code",
   "execution_count": 64,
   "id": "f4e3bc47",
   "metadata": {},
   "outputs": [],
   "source": [
    "pop_et_dispo = pd.merge(population, dispo_alimentaire, how='left', on='Zone')"
   ]
  },
  {
   "cell_type": "markdown",
   "id": "bab0ac24",
   "metadata": {},
   "source": [
    "## Localiser l'année 2017 dans le nouveau DF"
   ]
  },
  {
   "cell_type": "code",
   "execution_count": 65,
   "id": "2e6355ed",
   "metadata": {},
   "outputs": [
    {
     "data": {
      "text/html": [
       "<div>\n",
       "<style scoped>\n",
       "    .dataframe tbody tr th:only-of-type {\n",
       "        vertical-align: middle;\n",
       "    }\n",
       "\n",
       "    .dataframe tbody tr th {\n",
       "        vertical-align: top;\n",
       "    }\n",
       "\n",
       "    .dataframe thead th {\n",
       "        text-align: right;\n",
       "    }\n",
       "</style>\n",
       "<table border=\"1\" class=\"dataframe\">\n",
       "  <thead>\n",
       "    <tr style=\"text-align: right;\">\n",
       "      <th></th>\n",
       "      <th>Zone</th>\n",
       "      <th>Année</th>\n",
       "      <th>Population_millions</th>\n",
       "      <th>Produit</th>\n",
       "      <th>Origine</th>\n",
       "      <th>Aliments pour animaux</th>\n",
       "      <th>Autres Utilisations</th>\n",
       "      <th>Disponibilité alimentaire (Kcal/personne/jour)</th>\n",
       "      <th>Disponibilité alimentaire en quantité (kg/personne/an)</th>\n",
       "      <th>Disponibilité de matière grasse en quantité (g/personne/jour)</th>\n",
       "      <th>Disponibilité de protéines en quantité (g/personne/jour)</th>\n",
       "      <th>Disponibilité intérieure</th>\n",
       "      <th>Exportations - Quantité</th>\n",
       "      <th>Importations - Quantité</th>\n",
       "      <th>Nourriture</th>\n",
       "      <th>Pertes</th>\n",
       "      <th>Production</th>\n",
       "      <th>Semences</th>\n",
       "      <th>Traitement</th>\n",
       "      <th>Variation de stock</th>\n",
       "    </tr>\n",
       "  </thead>\n",
       "  <tbody>\n",
       "    <tr>\n",
       "      <th>240</th>\n",
       "      <td>Afghanistan</td>\n",
       "      <td>2017</td>\n",
       "      <td>36296113.0</td>\n",
       "      <td>Abats Comestible</td>\n",
       "      <td>animale</td>\n",
       "      <td>NaN</td>\n",
       "      <td>NaN</td>\n",
       "      <td>5.0</td>\n",
       "      <td>1.72</td>\n",
       "      <td>0.20</td>\n",
       "      <td>0.77</td>\n",
       "      <td>53.0</td>\n",
       "      <td>NaN</td>\n",
       "      <td>NaN</td>\n",
       "      <td>53.0</td>\n",
       "      <td>NaN</td>\n",
       "      <td>53.0</td>\n",
       "      <td>NaN</td>\n",
       "      <td>NaN</td>\n",
       "      <td>NaN</td>\n",
       "    </tr>\n",
       "    <tr>\n",
       "      <th>241</th>\n",
       "      <td>Afghanistan</td>\n",
       "      <td>2017</td>\n",
       "      <td>36296113.0</td>\n",
       "      <td>Agrumes, Autres</td>\n",
       "      <td>vegetale</td>\n",
       "      <td>NaN</td>\n",
       "      <td>NaN</td>\n",
       "      <td>1.0</td>\n",
       "      <td>1.29</td>\n",
       "      <td>0.01</td>\n",
       "      <td>0.02</td>\n",
       "      <td>41.0</td>\n",
       "      <td>2.0</td>\n",
       "      <td>40.0</td>\n",
       "      <td>39.0</td>\n",
       "      <td>2.0</td>\n",
       "      <td>3.0</td>\n",
       "      <td>NaN</td>\n",
       "      <td>NaN</td>\n",
       "      <td>NaN</td>\n",
       "    </tr>\n",
       "  </tbody>\n",
       "</table>\n",
       "</div>"
      ],
      "text/plain": [
       "            Zone  Année  Population_millions           Produit   Origine  \\\n",
       "240  Afghanistan   2017           36296113.0  Abats Comestible   animale   \n",
       "241  Afghanistan   2017           36296113.0   Agrumes, Autres  vegetale   \n",
       "\n",
       "     Aliments pour animaux  Autres Utilisations  \\\n",
       "240                    NaN                  NaN   \n",
       "241                    NaN                  NaN   \n",
       "\n",
       "     Disponibilité alimentaire (Kcal/personne/jour)  \\\n",
       "240                                             5.0   \n",
       "241                                             1.0   \n",
       "\n",
       "     Disponibilité alimentaire en quantité (kg/personne/an)  \\\n",
       "240                                               1.72        \n",
       "241                                               1.29        \n",
       "\n",
       "     Disponibilité de matière grasse en quantité (g/personne/jour)  \\\n",
       "240                                               0.20               \n",
       "241                                               0.01               \n",
       "\n",
       "     Disponibilité de protéines en quantité (g/personne/jour)  \\\n",
       "240                                               0.77          \n",
       "241                                               0.02          \n",
       "\n",
       "     Disponibilité intérieure  Exportations - Quantité  \\\n",
       "240                      53.0                      NaN   \n",
       "241                      41.0                      2.0   \n",
       "\n",
       "     Importations - Quantité  Nourriture  Pertes  Production  Semences  \\\n",
       "240                      NaN        53.0     NaN        53.0       NaN   \n",
       "241                     40.0        39.0     2.0         3.0       NaN   \n",
       "\n",
       "     Traitement  Variation de stock  \n",
       "240         NaN                 NaN  \n",
       "241         NaN                 NaN  "
      ]
     },
     "execution_count": 65,
     "metadata": {},
     "output_type": "execute_result"
    }
   ],
   "source": [
    "pop_et_dispo_2017 = pop_et_dispo.loc[pop_et_dispo['Année'] == 2017]\n",
    "pop_et_dispo_2017.head(2)"
   ]
  },
  {
   "cell_type": "markdown",
   "id": "71178d85",
   "metadata": {},
   "source": [
    "## Calcul du nombre théorique de personnes pouvant être nourries\n",
    "\n",
    "##### Formule : (((Population_millions * Disponibilité alimentaire (Kcal/personne/jour)).sum()) * 365) / (2400*365)\n",
    "\n",
    "*D'après l'Organisation Mondiale de la Santé, un homme doit consommer environ 2500kcal par jour et une femme 2000kcal par jour.*\n",
    "\n",
    "*Pour réaliser le calcul du nombre théorique de personnes pouvant être nourries, nous partirons sur une consommation de 2400kcal/jour.*"
   ]
  },
  {
   "cell_type": "code",
   "execution_count": 66,
   "id": "c2dfab75",
   "metadata": {},
   "outputs": [
    {
     "data": {
      "text/plain": [
       "8716243594.72"
      ]
     },
     "execution_count": 66,
     "metadata": {},
     "output_type": "execute_result"
    }
   ],
   "source": [
    "dispo_alimentaire_mondiale = round((((pop_et_dispo_2017['Population_millions']*\n",
    "                                      pop_et_dispo_2017['Disponibilité alimentaire (Kcal/personne/jour)']).sum())*365)\n",
    "                                   /(2400*365),2)\n",
    "dispo_alimentaire_mondiale"
   ]
  },
  {
   "cell_type": "markdown",
   "id": "0f71117a",
   "metadata": {},
   "source": [
    "##### Le nombre théorique de personnes pouvant être nourries est de 8.716.243.594"
   ]
  },
  {
   "cell_type": "markdown",
   "id": "c02cc8a8",
   "metadata": {},
   "source": [
    "## Calcul de la proportion du nombre théorique de personnes pouvant être nourries"
   ]
  },
  {
   "cell_type": "code",
   "execution_count": 68,
   "id": "e19f3288",
   "metadata": {},
   "outputs": [
    {
     "name": "stdout",
     "output_type": "stream",
     "text": [
      "115.48 %\n"
     ]
    }
   ],
   "source": [
    "proportion = (dispo_alimentaire_mondiale/(population_2017['Population_millions'].sum()))*100\n",
    "print('{:.2f}'.format(proportion), '%')"
   ]
  },
  {
   "cell_type": "markdown",
   "id": "3c70ee86",
   "metadata": {},
   "source": [
    "##### 115,48% de la population mondiale pourrait potentiellement être nourrie avec les ressources alimentaires déclarées en 2017."
   ]
  },
  {
   "cell_type": "markdown",
   "id": "46b563b9",
   "metadata": {},
   "source": [
    "# DEMANDE DE MARC N°3\n",
    "\n",
    "##### Pour l'année 2017, quel est le nombre théorique de personnes qui pourraient être nourries avec des produits d'origine végétale  ?"
   ]
  },
  {
   "cell_type": "markdown",
   "id": "fbb17b8b",
   "metadata": {},
   "source": [
    "## Travailler sur le DF précédent : pop_et_dispo_2017 (jointure entre les df population et dispo_alimentaire + localisation de l'année 2017)"
   ]
  },
  {
   "cell_type": "code",
   "execution_count": 69,
   "id": "6fc7cf0b",
   "metadata": {},
   "outputs": [
    {
     "data": {
      "text/html": [
       "<div>\n",
       "<style scoped>\n",
       "    .dataframe tbody tr th:only-of-type {\n",
       "        vertical-align: middle;\n",
       "    }\n",
       "\n",
       "    .dataframe tbody tr th {\n",
       "        vertical-align: top;\n",
       "    }\n",
       "\n",
       "    .dataframe thead th {\n",
       "        text-align: right;\n",
       "    }\n",
       "</style>\n",
       "<table border=\"1\" class=\"dataframe\">\n",
       "  <thead>\n",
       "    <tr style=\"text-align: right;\">\n",
       "      <th></th>\n",
       "      <th>Zone</th>\n",
       "      <th>Année</th>\n",
       "      <th>Population_millions</th>\n",
       "      <th>Produit</th>\n",
       "      <th>Origine</th>\n",
       "      <th>Aliments pour animaux</th>\n",
       "      <th>Autres Utilisations</th>\n",
       "      <th>Disponibilité alimentaire (Kcal/personne/jour)</th>\n",
       "      <th>Disponibilité alimentaire en quantité (kg/personne/an)</th>\n",
       "      <th>Disponibilité de matière grasse en quantité (g/personne/jour)</th>\n",
       "      <th>Disponibilité de protéines en quantité (g/personne/jour)</th>\n",
       "      <th>Disponibilité intérieure</th>\n",
       "      <th>Exportations - Quantité</th>\n",
       "      <th>Importations - Quantité</th>\n",
       "      <th>Nourriture</th>\n",
       "      <th>Pertes</th>\n",
       "      <th>Production</th>\n",
       "      <th>Semences</th>\n",
       "      <th>Traitement</th>\n",
       "      <th>Variation de stock</th>\n",
       "    </tr>\n",
       "  </thead>\n",
       "  <tbody>\n",
       "    <tr>\n",
       "      <th>240</th>\n",
       "      <td>Afghanistan</td>\n",
       "      <td>2017</td>\n",
       "      <td>36296113.0</td>\n",
       "      <td>Abats Comestible</td>\n",
       "      <td>animale</td>\n",
       "      <td>NaN</td>\n",
       "      <td>NaN</td>\n",
       "      <td>5.0</td>\n",
       "      <td>1.72</td>\n",
       "      <td>0.20</td>\n",
       "      <td>0.77</td>\n",
       "      <td>53.0</td>\n",
       "      <td>NaN</td>\n",
       "      <td>NaN</td>\n",
       "      <td>53.0</td>\n",
       "      <td>NaN</td>\n",
       "      <td>53.0</td>\n",
       "      <td>NaN</td>\n",
       "      <td>NaN</td>\n",
       "      <td>NaN</td>\n",
       "    </tr>\n",
       "    <tr>\n",
       "      <th>241</th>\n",
       "      <td>Afghanistan</td>\n",
       "      <td>2017</td>\n",
       "      <td>36296113.0</td>\n",
       "      <td>Agrumes, Autres</td>\n",
       "      <td>vegetale</td>\n",
       "      <td>NaN</td>\n",
       "      <td>NaN</td>\n",
       "      <td>1.0</td>\n",
       "      <td>1.29</td>\n",
       "      <td>0.01</td>\n",
       "      <td>0.02</td>\n",
       "      <td>41.0</td>\n",
       "      <td>2.0</td>\n",
       "      <td>40.0</td>\n",
       "      <td>39.0</td>\n",
       "      <td>2.0</td>\n",
       "      <td>3.0</td>\n",
       "      <td>NaN</td>\n",
       "      <td>NaN</td>\n",
       "      <td>NaN</td>\n",
       "    </tr>\n",
       "  </tbody>\n",
       "</table>\n",
       "</div>"
      ],
      "text/plain": [
       "            Zone  Année  Population_millions           Produit   Origine  \\\n",
       "240  Afghanistan   2017           36296113.0  Abats Comestible   animale   \n",
       "241  Afghanistan   2017           36296113.0   Agrumes, Autres  vegetale   \n",
       "\n",
       "     Aliments pour animaux  Autres Utilisations  \\\n",
       "240                    NaN                  NaN   \n",
       "241                    NaN                  NaN   \n",
       "\n",
       "     Disponibilité alimentaire (Kcal/personne/jour)  \\\n",
       "240                                             5.0   \n",
       "241                                             1.0   \n",
       "\n",
       "     Disponibilité alimentaire en quantité (kg/personne/an)  \\\n",
       "240                                               1.72        \n",
       "241                                               1.29        \n",
       "\n",
       "     Disponibilité de matière grasse en quantité (g/personne/jour)  \\\n",
       "240                                               0.20               \n",
       "241                                               0.01               \n",
       "\n",
       "     Disponibilité de protéines en quantité (g/personne/jour)  \\\n",
       "240                                               0.77          \n",
       "241                                               0.02          \n",
       "\n",
       "     Disponibilité intérieure  Exportations - Quantité  \\\n",
       "240                      53.0                      NaN   \n",
       "241                      41.0                      2.0   \n",
       "\n",
       "     Importations - Quantité  Nourriture  Pertes  Production  Semences  \\\n",
       "240                      NaN        53.0     NaN        53.0       NaN   \n",
       "241                     40.0        39.0     2.0         3.0       NaN   \n",
       "\n",
       "     Traitement  Variation de stock  \n",
       "240         NaN                 NaN  \n",
       "241         NaN                 NaN  "
      ]
     },
     "execution_count": 69,
     "metadata": {},
     "output_type": "execute_result"
    }
   ],
   "source": [
    "pop_et_dispo_2017.head(2)"
   ]
  },
  {
   "cell_type": "markdown",
   "id": "d546045d",
   "metadata": {},
   "source": [
    " ## Localiser les produits d'origine végétale avec df.loc"
   ]
  },
  {
   "cell_type": "code",
   "execution_count": 70,
   "id": "3b908372",
   "metadata": {},
   "outputs": [
    {
     "data": {
      "text/html": [
       "<div>\n",
       "<style scoped>\n",
       "    .dataframe tbody tr th:only-of-type {\n",
       "        vertical-align: middle;\n",
       "    }\n",
       "\n",
       "    .dataframe tbody tr th {\n",
       "        vertical-align: top;\n",
       "    }\n",
       "\n",
       "    .dataframe thead th {\n",
       "        text-align: right;\n",
       "    }\n",
       "</style>\n",
       "<table border=\"1\" class=\"dataframe\">\n",
       "  <thead>\n",
       "    <tr style=\"text-align: right;\">\n",
       "      <th></th>\n",
       "      <th>Zone</th>\n",
       "      <th>Année</th>\n",
       "      <th>Population_millions</th>\n",
       "      <th>Produit</th>\n",
       "      <th>Origine</th>\n",
       "      <th>Aliments pour animaux</th>\n",
       "      <th>Autres Utilisations</th>\n",
       "      <th>Disponibilité alimentaire (Kcal/personne/jour)</th>\n",
       "      <th>Disponibilité alimentaire en quantité (kg/personne/an)</th>\n",
       "      <th>Disponibilité de matière grasse en quantité (g/personne/jour)</th>\n",
       "      <th>Disponibilité de protéines en quantité (g/personne/jour)</th>\n",
       "      <th>Disponibilité intérieure</th>\n",
       "      <th>Exportations - Quantité</th>\n",
       "      <th>Importations - Quantité</th>\n",
       "      <th>Nourriture</th>\n",
       "      <th>Pertes</th>\n",
       "      <th>Production</th>\n",
       "      <th>Semences</th>\n",
       "      <th>Traitement</th>\n",
       "      <th>Variation de stock</th>\n",
       "    </tr>\n",
       "  </thead>\n",
       "  <tbody>\n",
       "    <tr>\n",
       "      <th>241</th>\n",
       "      <td>Afghanistan</td>\n",
       "      <td>2017</td>\n",
       "      <td>36296113.0</td>\n",
       "      <td>Agrumes, Autres</td>\n",
       "      <td>vegetale</td>\n",
       "      <td>NaN</td>\n",
       "      <td>NaN</td>\n",
       "      <td>1.0</td>\n",
       "      <td>1.29</td>\n",
       "      <td>0.01</td>\n",
       "      <td>0.02</td>\n",
       "      <td>41.0</td>\n",
       "      <td>2.0</td>\n",
       "      <td>40.0</td>\n",
       "      <td>39.0</td>\n",
       "      <td>2.0</td>\n",
       "      <td>3.0</td>\n",
       "      <td>NaN</td>\n",
       "      <td>NaN</td>\n",
       "      <td>NaN</td>\n",
       "    </tr>\n",
       "    <tr>\n",
       "      <th>242</th>\n",
       "      <td>Afghanistan</td>\n",
       "      <td>2017</td>\n",
       "      <td>36296113.0</td>\n",
       "      <td>Aliments pour enfants</td>\n",
       "      <td>vegetale</td>\n",
       "      <td>NaN</td>\n",
       "      <td>NaN</td>\n",
       "      <td>1.0</td>\n",
       "      <td>0.06</td>\n",
       "      <td>0.01</td>\n",
       "      <td>0.03</td>\n",
       "      <td>2.0</td>\n",
       "      <td>NaN</td>\n",
       "      <td>2.0</td>\n",
       "      <td>2.0</td>\n",
       "      <td>NaN</td>\n",
       "      <td>NaN</td>\n",
       "      <td>NaN</td>\n",
       "      <td>NaN</td>\n",
       "      <td>NaN</td>\n",
       "    </tr>\n",
       "  </tbody>\n",
       "</table>\n",
       "</div>"
      ],
      "text/plain": [
       "            Zone  Année  Population_millions                Produit   Origine  \\\n",
       "241  Afghanistan   2017           36296113.0        Agrumes, Autres  vegetale   \n",
       "242  Afghanistan   2017           36296113.0  Aliments pour enfants  vegetale   \n",
       "\n",
       "     Aliments pour animaux  Autres Utilisations  \\\n",
       "241                    NaN                  NaN   \n",
       "242                    NaN                  NaN   \n",
       "\n",
       "     Disponibilité alimentaire (Kcal/personne/jour)  \\\n",
       "241                                             1.0   \n",
       "242                                             1.0   \n",
       "\n",
       "     Disponibilité alimentaire en quantité (kg/personne/an)  \\\n",
       "241                                               1.29        \n",
       "242                                               0.06        \n",
       "\n",
       "     Disponibilité de matière grasse en quantité (g/personne/jour)  \\\n",
       "241                                               0.01               \n",
       "242                                               0.01               \n",
       "\n",
       "     Disponibilité de protéines en quantité (g/personne/jour)  \\\n",
       "241                                               0.02          \n",
       "242                                               0.03          \n",
       "\n",
       "     Disponibilité intérieure  Exportations - Quantité  \\\n",
       "241                      41.0                      2.0   \n",
       "242                       2.0                      NaN   \n",
       "\n",
       "     Importations - Quantité  Nourriture  Pertes  Production  Semences  \\\n",
       "241                     40.0        39.0     2.0         3.0       NaN   \n",
       "242                      2.0         2.0     NaN         NaN       NaN   \n",
       "\n",
       "     Traitement  Variation de stock  \n",
       "241         NaN                 NaN  \n",
       "242         NaN                 NaN  "
      ]
     },
     "execution_count": 70,
     "metadata": {},
     "output_type": "execute_result"
    }
   ],
   "source": [
    "pop_et_dispo_2017_veggie = pop_et_dispo_2017.loc[pop_et_dispo_2017['Origine'] == 'vegetale']\n",
    "pop_et_dispo_2017_veggie.head(2)"
   ]
  },
  {
   "cell_type": "markdown",
   "id": "acb73046",
   "metadata": {},
   "source": [
    "## Calcul de la disponibilité alimentaire d'origine végétale"
   ]
  },
  {
   "cell_type": "code",
   "execution_count": 75,
   "id": "56456767",
   "metadata": {},
   "outputs": [
    {
     "data": {
      "text/plain": [
       "7191985088.13"
      ]
     },
     "execution_count": 75,
     "metadata": {},
     "output_type": "execute_result"
    }
   ],
   "source": [
    "dispo_alimentaire_mondiale_veggie = round((((pop_et_dispo_2017_veggie['Population_millions']*\n",
    "                                            pop_et_dispo_2017_veggie['Disponibilité alimentaire (Kcal/personne/jour)']).sum())*365)\n",
    "                                          /(2400*365),2)\n",
    "dispo_alimentaire_mondiale_veggie"
   ]
  },
  {
   "cell_type": "code",
   "execution_count": 76,
   "id": "ab648398",
   "metadata": {},
   "outputs": [
    {
     "name": "stdout",
     "output_type": "stream",
     "text": [
      "95.28 %\n"
     ]
    }
   ],
   "source": [
    "proportion_veggie = dispo_alimentaire_mondiale_veggie/(population_2017['Population_millions'].sum())*100\n",
    "print('{:.2f}'.format(proportion_veggie), '%')"
   ]
  },
  {
   "cell_type": "markdown",
   "id": "a49dda88",
   "metadata": {},
   "source": [
    "***En 2017, le nombre théorique de personnes pouvant être nourries de nourriture d'origine végétale est de 7.191.985.088 soit 95,28% de la population.***"
   ]
  },
  {
   "cell_type": "markdown",
   "id": "469b7856",
   "metadata": {},
   "source": [
    "# DEMANDE DE MARC N°4\n",
    "\n",
    "##### Calculer la répartition de la disponibilité intérieure : la part attribuée à l'alimentation animale, celle qui est perdue et celle qui est utilisée pour l'alimentation humaine.\n",
    "    "
   ]
  },
  {
   "cell_type": "markdown",
   "id": "b677ee4c",
   "metadata": {},
   "source": [
    "## Calcul des parts de la  disponibilité intérieure mondiale\n",
    "\n",
    "##### Disponibilité intérieure mondiale = quantités disponibles pour l'utilisation intérieure\n",
    "\n",
    "PRODUCTION + IMPORTATIONS - EXPORTATIONS + VARIATIONS DES STOCKS = ***DISPONIBILITE INTERIEURE*** \n",
    "= ALIMENTS POUR ANIMAUX + NOURRITURE + PERTES + SEMENCES + TRAITEMENT + AUTRES UTILISATIONS"
   ]
  },
  {
   "cell_type": "markdown",
   "id": "85e564a9",
   "metadata": {},
   "source": [
    "### Disponibilité intérieure mondiale"
   ]
  },
  {
   "cell_type": "code",
   "execution_count": 77,
   "id": "b9013253",
   "metadata": {},
   "outputs": [
    {
     "data": {
      "text/plain": [
       "9848994.0"
      ]
     },
     "execution_count": 77,
     "metadata": {},
     "output_type": "execute_result"
    }
   ],
   "source": [
    "dispo_interieure_mondiale = dispo_alimentaire['Disponibilité intérieure'].sum()\n",
    "dispo_interieure_mondiale"
   ]
  },
  {
   "cell_type": "markdown",
   "id": "6872715e",
   "metadata": {},
   "source": [
    "### Part de la disponibilité intérieure attribuée à l'alimentation animale"
   ]
  },
  {
   "cell_type": "code",
   "execution_count": 78,
   "id": "cf97a0a0",
   "metadata": {},
   "outputs": [
    {
     "name": "stdout",
     "output_type": "stream",
     "text": [
      "13.24 %\n"
     ]
    }
   ],
   "source": [
    "dispo_interieure_animale = ((dispo_alimentaire['Aliments pour animaux'].sum())/dispo_interieure_mondiale)*100\n",
    "print('{:.2f}'.format(dispo_interieure_animale), '%')"
   ]
  },
  {
   "cell_type": "markdown",
   "id": "060755f7",
   "metadata": {},
   "source": [
    "***La part de disponibilité intérieure mondiale qui est attribuée à l'alimentation animale est de 13.24%.***"
   ]
  },
  {
   "cell_type": "markdown",
   "id": "81c027f4",
   "metadata": {},
   "source": [
    "### Part de la disponibilité intérieure qui est perdue"
   ]
  },
  {
   "cell_type": "code",
   "execution_count": 79,
   "id": "21ed675e",
   "metadata": {},
   "outputs": [
    {
     "name": "stdout",
     "output_type": "stream",
     "text": [
      "4.61 %\n"
     ]
    }
   ],
   "source": [
    "dispo_interieure_pertes = ((dispo_alimentaire['Pertes'].sum())/dispo_interieure_mondiale)*100\n",
    "print('{:.2f}'.format(dispo_interieure_pertes), '%')"
   ]
  },
  {
   "cell_type": "markdown",
   "id": "7f14b808",
   "metadata": {},
   "source": [
    "***La part de la disponibilité intérieure mondiale qui est perdue est de 4.61%.***"
   ]
  },
  {
   "cell_type": "markdown",
   "id": "270c5ea5",
   "metadata": {},
   "source": [
    "### Part de la disponibilité intérieure attribuée à l'alimentation humaine"
   ]
  },
  {
   "cell_type": "code",
   "execution_count": 80,
   "id": "4ae05243",
   "metadata": {},
   "outputs": [
    {
     "name": "stdout",
     "output_type": "stream",
     "text": [
      "49.51 %\n"
     ]
    }
   ],
   "source": [
    "dispo_interieure_nourriture = ((dispo_alimentaire['Nourriture'].sum())/dispo_interieure_mondiale)*100\n",
    "print('{:.2f}'.format(dispo_interieure_nourriture), '%')"
   ]
  },
  {
   "cell_type": "markdown",
   "id": "6808e1c1",
   "metadata": {},
   "source": [
    "***La part de disponibilité intérieure mondiale attribuée à l'alimentation humaine est de 49.51%.***"
   ]
  },
  {
   "cell_type": "markdown",
   "id": "431d40cc",
   "metadata": {},
   "source": [
    "### Part de la disponibilité intérieure mondiale destinée à d'autres utilisations"
   ]
  },
  {
   "cell_type": "code",
   "execution_count": 81,
   "id": "f0821da6",
   "metadata": {},
   "outputs": [
    {
     "name": "stdout",
     "output_type": "stream",
     "text": [
      "8.78 %\n"
     ]
    }
   ],
   "source": [
    "dispo_interieure_autres_utilisations = ((dispo_alimentaire['Autres Utilisations'].sum())/dispo_interieure_mondiale)*100\n",
    "print('{:.2f}'.format(dispo_interieure_autres_utilisations), '%')"
   ]
  },
  {
   "cell_type": "markdown",
   "id": "4c867466",
   "metadata": {},
   "source": [
    "***La part de la disponibilité intérieure mondiale destinée à d'autres utilisations est de 8.78%.***"
   ]
  },
  {
   "cell_type": "markdown",
   "id": "ddaf074a",
   "metadata": {},
   "source": [
    "### Part de la disponibilité intérieure mondiale destinée aux semences"
   ]
  },
  {
   "cell_type": "code",
   "execution_count": 83,
   "id": "a4131a8e",
   "metadata": {},
   "outputs": [
    {
     "name": "stdout",
     "output_type": "stream",
     "text": [
      "1.57 %\n"
     ]
    }
   ],
   "source": [
    "dispo_interieure_semences = ((dispo_alimentaire['Semences'].sum())/dispo_interieure_mondiale)*100\n",
    "print('{:.2f}'.format(dispo_interieure_semences), '%')"
   ]
  },
  {
   "cell_type": "markdown",
   "id": "013368b1",
   "metadata": {},
   "source": [
    "***La part de disponibilité intérieure mondiale attribuée aux semences est de 1.57%.***"
   ]
  },
  {
   "cell_type": "markdown",
   "id": "893ad3fc",
   "metadata": {},
   "source": [
    "### Part de la disponibilité intérieure mondiale destinée au traitement "
   ]
  },
  {
   "cell_type": "code",
   "execution_count": 84,
   "id": "d77b4eaa",
   "metadata": {},
   "outputs": [
    {
     "name": "stdout",
     "output_type": "stream",
     "text": [
      "22.38 %\n"
     ]
    }
   ],
   "source": [
    "dispo_interieure_traitement = ((dispo_alimentaire['Traitement'].sum())/dispo_interieure_mondiale)*100\n",
    "print('{:.2f}'.format(dispo_interieure_traitement), '%')"
   ]
  },
  {
   "cell_type": "markdown",
   "id": "dc08f75e",
   "metadata": {},
   "source": [
    "***La part de disponibilité intérieure mondiale destinée au traitement est 22.38%.***"
   ]
  },
  {
   "cell_type": "markdown",
   "id": "2f23fc4a",
   "metadata": {},
   "source": [
    "### Graphique représentant la répartition de la disponibilité intérieure mondiale"
   ]
  },
  {
   "cell_type": "code",
   "execution_count": 88,
   "id": "8d948b10",
   "metadata": {},
   "outputs": [
    {
     "data": {
      "image/png": "[encoded data removed]",
      "text/plain": [
       "<Figure size 720x432 with 1 Axes>"
      ]
     },
     "metadata": {},
     "output_type": "display_data"
    }
   ],
   "source": [
    "plt.figure(figsize=(10,6))\n",
    "parts_dispo_interieure = [dispo_interieure_animale, dispo_interieure_pertes, dispo_interieure_nourriture, dispo_interieure_autres_utilisations,dispo_interieure_traitement, dispo_interieure_semences]\n",
    "plt.pie(parts_dispo_interieure, labels = ['Disponibilités animales', 'Pertes', 'Disponibilités humaines', 'Autres utilisations','Traitement', 'Semences'], explode = [0,0,0.2,0,0,0], autopct = lambda parts_dispo_interieure: str(round(parts_dispo_interieure,2)) + '%' )\n",
    "plt.title('Répartition de la disponibilité intérieure mondiale', fontsize = 14)\n",
    "plt.show()"
   ]
  },
  {
   "cell_type": "markdown",
   "id": "3fe98bfe",
   "metadata": {},
   "source": [
    "### Exemple de la France"
   ]
  },
  {
   "cell_type": "code",
   "execution_count": 89,
   "id": "9441bd36",
   "metadata": {},
   "outputs": [
    {
     "data": {
      "text/html": [
       "<div>\n",
       "<style scoped>\n",
       "    .dataframe tbody tr th:only-of-type {\n",
       "        vertical-align: middle;\n",
       "    }\n",
       "\n",
       "    .dataframe tbody tr th {\n",
       "        vertical-align: top;\n",
       "    }\n",
       "\n",
       "    .dataframe thead th {\n",
       "        text-align: right;\n",
       "    }\n",
       "</style>\n",
       "<table border=\"1\" class=\"dataframe\">\n",
       "  <thead>\n",
       "    <tr style=\"text-align: right;\">\n",
       "      <th></th>\n",
       "      <th>Zone</th>\n",
       "      <th>Produit</th>\n",
       "      <th>Origine</th>\n",
       "      <th>Aliments pour animaux</th>\n",
       "      <th>Autres Utilisations</th>\n",
       "      <th>Disponibilité alimentaire (Kcal/personne/jour)</th>\n",
       "      <th>Disponibilité alimentaire en quantité (kg/personne/an)</th>\n",
       "      <th>Disponibilité de matière grasse en quantité (g/personne/jour)</th>\n",
       "      <th>Disponibilité de protéines en quantité (g/personne/jour)</th>\n",
       "      <th>Disponibilité intérieure</th>\n",
       "      <th>Exportations - Quantité</th>\n",
       "      <th>Importations - Quantité</th>\n",
       "      <th>Nourriture</th>\n",
       "      <th>Pertes</th>\n",
       "      <th>Production</th>\n",
       "      <th>Semences</th>\n",
       "      <th>Traitement</th>\n",
       "      <th>Variation de stock</th>\n",
       "    </tr>\n",
       "  </thead>\n",
       "  <tbody>\n",
       "    <tr>\n",
       "      <th>4839</th>\n",
       "      <td>France</td>\n",
       "      <td>Abats Comestible</td>\n",
       "      <td>animale</td>\n",
       "      <td>NaN</td>\n",
       "      <td>0.0</td>\n",
       "      <td>18.0</td>\n",
       "      <td>5.86</td>\n",
       "      <td>0.51</td>\n",
       "      <td>2.93</td>\n",
       "      <td>377.0</td>\n",
       "      <td>166.0</td>\n",
       "      <td>90.0</td>\n",
       "      <td>377.0</td>\n",
       "      <td>NaN</td>\n",
       "      <td>453.0</td>\n",
       "      <td>NaN</td>\n",
       "      <td>NaN</td>\n",
       "      <td>0.0</td>\n",
       "    </tr>\n",
       "    <tr>\n",
       "      <th>4840</th>\n",
       "      <td>France</td>\n",
       "      <td>Agrumes, Autres</td>\n",
       "      <td>vegetale</td>\n",
       "      <td>NaN</td>\n",
       "      <td>NaN</td>\n",
       "      <td>0.0</td>\n",
       "      <td>0.11</td>\n",
       "      <td>0.00</td>\n",
       "      <td>0.00</td>\n",
       "      <td>8.0</td>\n",
       "      <td>1.0</td>\n",
       "      <td>9.0</td>\n",
       "      <td>7.0</td>\n",
       "      <td>0.0</td>\n",
       "      <td>NaN</td>\n",
       "      <td>NaN</td>\n",
       "      <td>NaN</td>\n",
       "      <td>NaN</td>\n",
       "    </tr>\n",
       "  </tbody>\n",
       "</table>\n",
       "</div>"
      ],
      "text/plain": [
       "        Zone           Produit   Origine  Aliments pour animaux  \\\n",
       "4839  France  Abats Comestible   animale                    NaN   \n",
       "4840  France   Agrumes, Autres  vegetale                    NaN   \n",
       "\n",
       "      Autres Utilisations  Disponibilité alimentaire (Kcal/personne/jour)  \\\n",
       "4839                  0.0                                            18.0   \n",
       "4840                  NaN                                             0.0   \n",
       "\n",
       "      Disponibilité alimentaire en quantité (kg/personne/an)  \\\n",
       "4839                                               5.86        \n",
       "4840                                               0.11        \n",
       "\n",
       "      Disponibilité de matière grasse en quantité (g/personne/jour)  \\\n",
       "4839                                               0.51               \n",
       "4840                                               0.00               \n",
       "\n",
       "      Disponibilité de protéines en quantité (g/personne/jour)  \\\n",
       "4839                                               2.93          \n",
       "4840                                               0.00          \n",
       "\n",
       "      Disponibilité intérieure  Exportations - Quantité  \\\n",
       "4839                     377.0                    166.0   \n",
       "4840                       8.0                      1.0   \n",
       "\n",
       "      Importations - Quantité  Nourriture  Pertes  Production  Semences  \\\n",
       "4839                     90.0       377.0     NaN       453.0       NaN   \n",
       "4840                      9.0         7.0     0.0         NaN       NaN   \n",
       "\n",
       "      Traitement  Variation de stock  \n",
       "4839         NaN                 0.0  \n",
       "4840         NaN                 NaN  "
      ]
     },
     "execution_count": 89,
     "metadata": {},
     "output_type": "execute_result"
    }
   ],
   "source": [
    "dispo_alimentaire_france = dispo_alimentaire.loc[dispo_alimentaire['Zone'] == 'France']\n",
    "dispo_alimentaire_france.head(2)"
   ]
  },
  {
   "cell_type": "code",
   "execution_count": 90,
   "id": "aa4ecd5b",
   "metadata": {},
   "outputs": [],
   "source": [
    "dispo_interieure_france = dispo_alimentaire_france['Disponibilité intérieure'].sum()"
   ]
  },
  {
   "cell_type": "code",
   "execution_count": 92,
   "id": "3692d73d",
   "metadata": {},
   "outputs": [
    {
     "name": "stdout",
     "output_type": "stream",
     "text": [
      "15.50 %\n"
     ]
    }
   ],
   "source": [
    "dispo_interieure_animale_france = ((dispo_alimentaire_france['Aliments pour animaux'].sum())/dispo_interieure_france)*100\n",
    "print('{:.2f}'.format(dispo_interieure_animale_france), '%')"
   ]
  },
  {
   "cell_type": "code",
   "execution_count": 93,
   "id": "3b0db9a1",
   "metadata": {},
   "outputs": [
    {
     "name": "stdout",
     "output_type": "stream",
     "text": [
      "41.03 %\n"
     ]
    }
   ],
   "source": [
    "dispo_interieure_nourriture_france = ((dispo_alimentaire_france['Nourriture'].sum())/dispo_interieure_france)*100\n",
    "print('{:.2f}'.format(dispo_interieure_nourriture_france), '%')"
   ]
  },
  {
   "cell_type": "code",
   "execution_count": 94,
   "id": "6b82cc72",
   "metadata": {},
   "outputs": [
    {
     "name": "stdout",
     "output_type": "stream",
     "text": [
      "2.22 %\n"
     ]
    }
   ],
   "source": [
    "dispo_interieure_pertes_france = ((dispo_alimentaire_france['Pertes'].sum())/dispo_interieure_france)*100\n",
    "print('{:.2f}'.format(dispo_interieure_pertes_france), '%')"
   ]
  },
  {
   "cell_type": "code",
   "execution_count": 95,
   "id": "b49e417e",
   "metadata": {},
   "outputs": [
    {
     "name": "stdout",
     "output_type": "stream",
     "text": [
      "1.12 %\n"
     ]
    }
   ],
   "source": [
    "dispo_interieure_semences_france = ((dispo_alimentaire_france['Semences'].sum())/dispo_interieure_france)*100\n",
    "print('{:.2f}'.format(dispo_interieure_semences_france), '%')"
   ]
  },
  {
   "cell_type": "code",
   "execution_count": 96,
   "id": "822c9bd7",
   "metadata": {},
   "outputs": [
    {
     "name": "stdout",
     "output_type": "stream",
     "text": [
      "30.61 %\n"
     ]
    }
   ],
   "source": [
    "dispo_interieure_traitement_france = ((dispo_alimentaire_france['Traitement'].sum())/dispo_interieure_france)*100\n",
    "print('{:.2f}'.format(dispo_interieure_traitement_france), '%')"
   ]
  },
  {
   "cell_type": "code",
   "execution_count": 97,
   "id": "9e23d523",
   "metadata": {},
   "outputs": [
    {
     "name": "stdout",
     "output_type": "stream",
     "text": [
      "9.81 %\n"
     ]
    }
   ],
   "source": [
    "dispo_interieure_autres_utilisations_france = ((dispo_alimentaire_france['Autres Utilisations'].sum())/dispo_interieure_france)*100\n",
    "print('{:.2f}'.format(dispo_interieure_autres_utilisations_france), '%')"
   ]
  },
  {
   "cell_type": "code",
   "execution_count": 104,
   "id": "fa33f422",
   "metadata": {},
   "outputs": [
    {
     "data": {
      "text/plain": [
       "<function matplotlib.pyplot.show(close=None, block=None)>"
      ]
     },
     "execution_count": 104,
     "metadata": {},
     "output_type": "execute_result"
    },
    {
     "data": {
      "image/png": "[encoded data removed]",
      "text/plain": [
       "<Figure size 720x432 with 1 Axes>"
      ]
     },
     "metadata": {},
     "output_type": "display_data"
    }
   ],
   "source": [
    "plt.figure(figsize=(10,6))\n",
    "parts_dispo_france = [dispo_interieure_pertes_france, dispo_interieure_animale_france,dispo_interieure_nourriture_france, dispo_interieure_semences_france,dispo_interieure_traitement_france,dispo_interieure_autres_utilisations_france ]\n",
    "total = sum(parts_dispo_france)\n",
    "plt.pie(parts_dispo_france, labels = ['Pertes', 'Disponibilités animales', 'Disponibilités humaines', 'Semences', 'Traitement', 'Autres utilisations'], explode = [0,0,0.2,0,0,0],autopct = lambda p: '{:.2f}%'.format(p * total / 100))\n",
    "plt.title('Répartition de la disponibilité intérieure en France', fontsize = 14)\n",
    "plt.show"
   ]
  },
  {
   "cell_type": "markdown",
   "id": "2c4303bd",
   "metadata": {},
   "source": [
    "# PISTES DE JULIEN"
   ]
  },
  {
   "cell_type": "markdown",
   "id": "e3324285",
   "metadata": {},
   "source": [
    "## Répartition des céréales entre l'alimentation humaine et l'alimentation pour animaux"
   ]
  },
  {
   "cell_type": "markdown",
   "id": "6de189f5",
   "metadata": {},
   "source": [
    "### Création d'une liste répertoriant les céréales "
   ]
  },
  {
   "cell_type": "code",
   "execution_count": 105,
   "id": "d41c298f",
   "metadata": {},
   "outputs": [],
   "source": [
    "liste_cereales = ['Blé' ,'Seigle', 'Avoine', 'Maïs', 'Riz (Eq Blanchi)', 'Sorgho', 'Millet' ,'Céréales, Autres','Orge']"
   ]
  },
  {
   "cell_type": "code",
   "execution_count": 109,
   "id": "93546ce9",
   "metadata": {},
   "outputs": [
    {
     "data": {
      "text/plain": [
       "array(['Abats Comestible', 'Agrumes, Autres', 'Aliments pour enfants',\n",
       "       'Ananas', 'Bananes', 'Beurre, Ghee', 'Bière', 'Blé',\n",
       "       'Boissons Alcooliques', 'Café', 'Coco (Incl Coprah)', 'Crème',\n",
       "       'Céréales, Autres', 'Dattes', 'Edulcorants Autres',\n",
       "       'Feve de Cacao', 'Fruits, Autres', 'Graines de coton',\n",
       "       'Graines de tournesol', 'Graisses Animales Crue',\n",
       "       'Huil Plantes Oleif Autr', 'Huile Graines de Coton',\n",
       "       \"Huile d'Arachide\", \"Huile d'Olive\", 'Huile de Colza&Moutarde',\n",
       "       'Huile de Palme', 'Huile de Soja', 'Huile de Sésame',\n",
       "       'Huile de Tournesol', 'Lait - Excl Beurre', 'Légumes, Autres',\n",
       "       'Légumineuses Autres', 'Maïs', 'Miel', 'Millet', 'Miscellanees',\n",
       "       'Noix', 'Oeufs', 'Olives', 'Oranges, Mandarines', 'Orge',\n",
       "       'Plantes Oleiferes, Autre', 'Poissons Eau Douce', 'Poivre',\n",
       "       'Pommes', 'Pommes de Terre', 'Raisin', 'Riz (Eq Blanchi)',\n",
       "       'Sucre Eq Brut', 'Sucre, betterave', 'Sucre, canne', 'Sésame',\n",
       "       'Thé', 'Tomates', \"Viande d'Ovins/Caprins\", 'Viande de Bovins',\n",
       "       'Viande de Volailles', 'Viande, Autre', 'Vin', 'Épices, Autres',\n",
       "       'Alcool, non Comestible', 'Animaux Aquatiques Autre',\n",
       "       'Arachides Decortiquees', 'Avoine', 'Bananes plantains',\n",
       "       'Boissons Fermentés', 'Cephalopodes', 'Citrons & Limes',\n",
       "       'Crustacés', 'Girofles', 'Graines Colza/Moutarde', 'Haricots',\n",
       "       'Huile de Coco', 'Huile de Germe de Maïs', 'Huile de Palmistes',\n",
       "       'Huiles de Foie de Poisso', 'Huiles de Poissons', 'Ignames',\n",
       "       'Manioc', 'Mollusques, Autres', 'Oignons', 'Palmistes',\n",
       "       'Pamplemousse', 'Patates douces', 'Perciform', 'Piments',\n",
       "       'Plantes Aquatiques', 'Pois', 'Poissons Marins, Autres',\n",
       "       'Poissons Pelagiques', 'Racines nda', 'Seigle', 'Soja', 'Sorgho',\n",
       "       'Viande de Suides', 'Huile de Son de Riz', 'Sucre non centrifugé',\n",
       "       'Viande de Anim Aquatiq'], dtype=object)"
      ]
     },
     "execution_count": 109,
     "metadata": {},
     "output_type": "execute_result"
    }
   ],
   "source": [
    "dispo_alimentaire['Produit'].unique()"
   ]
  },
  {
   "cell_type": "markdown",
   "id": "9fb39183",
   "metadata": {},
   "source": [
    "### Création d'un DF , localiser et selectionner des valeurs avec df.loc et df.isin"
   ]
  },
  {
   "cell_type": "code",
   "execution_count": 112,
   "id": "1590f481",
   "metadata": {},
   "outputs": [
    {
     "data": {
      "text/html": [
       "<div>\n",
       "<style scoped>\n",
       "    .dataframe tbody tr th:only-of-type {\n",
       "        vertical-align: middle;\n",
       "    }\n",
       "\n",
       "    .dataframe tbody tr th {\n",
       "        vertical-align: top;\n",
       "    }\n",
       "\n",
       "    .dataframe thead th {\n",
       "        text-align: right;\n",
       "    }\n",
       "</style>\n",
       "<table border=\"1\" class=\"dataframe\">\n",
       "  <thead>\n",
       "    <tr style=\"text-align: right;\">\n",
       "      <th></th>\n",
       "      <th>Zone</th>\n",
       "      <th>Produit</th>\n",
       "      <th>Origine</th>\n",
       "      <th>Aliments pour animaux</th>\n",
       "      <th>Autres Utilisations</th>\n",
       "      <th>Disponibilité alimentaire (Kcal/personne/jour)</th>\n",
       "      <th>Disponibilité alimentaire en quantité (kg/personne/an)</th>\n",
       "      <th>Disponibilité de matière grasse en quantité (g/personne/jour)</th>\n",
       "      <th>Disponibilité de protéines en quantité (g/personne/jour)</th>\n",
       "      <th>Disponibilité intérieure</th>\n",
       "      <th>Exportations - Quantité</th>\n",
       "      <th>Importations - Quantité</th>\n",
       "      <th>Nourriture</th>\n",
       "      <th>Pertes</th>\n",
       "      <th>Production</th>\n",
       "      <th>Semences</th>\n",
       "      <th>Traitement</th>\n",
       "      <th>Variation de stock</th>\n",
       "    </tr>\n",
       "  </thead>\n",
       "  <tbody>\n",
       "    <tr>\n",
       "      <th>7</th>\n",
       "      <td>Afghanistan</td>\n",
       "      <td>Blé</td>\n",
       "      <td>vegetale</td>\n",
       "      <td>NaN</td>\n",
       "      <td>NaN</td>\n",
       "      <td>1369.0</td>\n",
       "      <td>160.23</td>\n",
       "      <td>4.69</td>\n",
       "      <td>36.91</td>\n",
       "      <td>5992.0</td>\n",
       "      <td>NaN</td>\n",
       "      <td>1173.0</td>\n",
       "      <td>4895.0</td>\n",
       "      <td>775.0</td>\n",
       "      <td>5169.0</td>\n",
       "      <td>322.0</td>\n",
       "      <td>NaN</td>\n",
       "      <td>-350.0</td>\n",
       "    </tr>\n",
       "    <tr>\n",
       "      <th>12</th>\n",
       "      <td>Afghanistan</td>\n",
       "      <td>Céréales, Autres</td>\n",
       "      <td>vegetale</td>\n",
       "      <td>NaN</td>\n",
       "      <td>NaN</td>\n",
       "      <td>0.0</td>\n",
       "      <td>0.00</td>\n",
       "      <td>0.00</td>\n",
       "      <td>0.00</td>\n",
       "      <td>0.0</td>\n",
       "      <td>NaN</td>\n",
       "      <td>0.0</td>\n",
       "      <td>0.0</td>\n",
       "      <td>NaN</td>\n",
       "      <td>NaN</td>\n",
       "      <td>NaN</td>\n",
       "      <td>NaN</td>\n",
       "      <td>NaN</td>\n",
       "    </tr>\n",
       "  </tbody>\n",
       "</table>\n",
       "</div>"
      ],
      "text/plain": [
       "           Zone           Produit   Origine  Aliments pour animaux  \\\n",
       "7   Afghanistan               Blé  vegetale                    NaN   \n",
       "12  Afghanistan  Céréales, Autres  vegetale                    NaN   \n",
       "\n",
       "    Autres Utilisations  Disponibilité alimentaire (Kcal/personne/jour)  \\\n",
       "7                   NaN                                          1369.0   \n",
       "12                  NaN                                             0.0   \n",
       "\n",
       "    Disponibilité alimentaire en quantité (kg/personne/an)  \\\n",
       "7                                              160.23        \n",
       "12                                               0.00        \n",
       "\n",
       "    Disponibilité de matière grasse en quantité (g/personne/jour)  \\\n",
       "7                                                4.69               \n",
       "12                                               0.00               \n",
       "\n",
       "    Disponibilité de protéines en quantité (g/personne/jour)  \\\n",
       "7                                               36.91          \n",
       "12                                               0.00          \n",
       "\n",
       "    Disponibilité intérieure  Exportations - Quantité  \\\n",
       "7                     5992.0                      NaN   \n",
       "12                       0.0                      NaN   \n",
       "\n",
       "    Importations - Quantité  Nourriture  Pertes  Production  Semences  \\\n",
       "7                    1173.0      4895.0   775.0      5169.0     322.0   \n",
       "12                      0.0         0.0     NaN         NaN       NaN   \n",
       "\n",
       "    Traitement  Variation de stock  \n",
       "7          NaN              -350.0  \n",
       "12         NaN                 NaN  "
      ]
     },
     "execution_count": 112,
     "metadata": {},
     "output_type": "execute_result"
    }
   ],
   "source": [
    "df_cereales = dispo_alimentaire.loc[dispo_alimentaire['Produit'].isin(liste_cereales)]\n",
    "df_cereales.head(2)"
   ]
  },
  {
   "cell_type": "markdown",
   "id": "f4bf2295",
   "metadata": {},
   "source": [
    "### Disponibilité intérieure totale des céréales"
   ]
  },
  {
   "cell_type": "code",
   "execution_count": 114,
   "id": "79ff3972",
   "metadata": {},
   "outputs": [],
   "source": [
    "dispo_interieure_cereales = df_cereales['Disponibilité intérieure'].sum()"
   ]
  },
  {
   "cell_type": "markdown",
   "id": "56e27cfc",
   "metadata": {},
   "source": [
    "### Part des céréales destinée à l'alimentation animale"
   ]
  },
  {
   "cell_type": "code",
   "execution_count": 115,
   "id": "a4b161aa",
   "metadata": {},
   "outputs": [
    {
     "name": "stdout",
     "output_type": "stream",
     "text": [
      "36.29 %\n"
     ]
    }
   ],
   "source": [
    "cereales_animaux = ((df_cereales['Aliments pour animaux'].sum())/dispo_interieure_cereales)*100\n",
    "print('{:.2f}'.format(cereales_animaux), '%')"
   ]
  },
  {
   "cell_type": "markdown",
   "id": "7dac39ff",
   "metadata": {},
   "source": [
    "### Part des céréales destinée à l'alimentation humaine"
   ]
  },
  {
   "cell_type": "code",
   "execution_count": 116,
   "id": "ac9aa5bd",
   "metadata": {},
   "outputs": [
    {
     "name": "stdout",
     "output_type": "stream",
     "text": [
      "42.75 %\n"
     ]
    }
   ],
   "source": [
    "cereales_humains = ((df_cereales['Nourriture'].sum())/dispo_interieure_cereales)*100\n",
    "print('{:.2f}'.format(cereales_humains), '%')"
   ]
  },
  {
   "cell_type": "markdown",
   "id": "11a5286d",
   "metadata": {},
   "source": [
    "### Part des céréales destinée à d'autres utilisations"
   ]
  },
  {
   "cell_type": "code",
   "execution_count": 117,
   "id": "b1b32925",
   "metadata": {},
   "outputs": [
    {
     "name": "stdout",
     "output_type": "stream",
     "text": [
      "9.75 %\n"
     ]
    }
   ],
   "source": [
    "cereales_autres_utilisations = ((df_cereales['Autres Utilisations'].sum())/dispo_interieure_cereales)*100\n",
    "print('{:.2f}'.format(cereales_autres_utilisations), '%')"
   ]
  },
  {
   "cell_type": "markdown",
   "id": "8a5054ae",
   "metadata": {},
   "source": [
    "### Part des céréales destinée à la perte"
   ]
  },
  {
   "cell_type": "code",
   "execution_count": 118,
   "id": "3ef599cf",
   "metadata": {
    "scrolled": true
   },
   "outputs": [
    {
     "name": "stdout",
     "output_type": "stream",
     "text": [
      "4.45 %\n"
     ]
    }
   ],
   "source": [
    "cereales_pertes = ((df_cereales['Pertes'].sum())/ dispo_interieure_cereales)*100\n",
    "print('{:.2f}'.format(cereales_pertes), '%')"
   ]
  },
  {
   "cell_type": "markdown",
   "id": "cfa20a9a",
   "metadata": {},
   "source": [
    "### Graphique représentant la répartition des céréales "
   ]
  },
  {
   "cell_type": "code",
   "execution_count": 121,
   "id": "f71fde08",
   "metadata": {
    "scrolled": true
   },
   "outputs": [
    {
     "data": {
      "image/png": "[encoded data removed]",
      "text/plain": [
       "<Figure size 720x432 with 1 Axes>"
      ]
     },
     "metadata": {},
     "output_type": "display_data"
    }
   ],
   "source": [
    "plt.figure(figsize=(10,6))\n",
    "parts_cereales = [cereales_animaux, cereales_humains,cereales_autres_utilisations,cereales_pertes]\n",
    "total_cereales = sum(parts_cereales)\n",
    "plt.pie(parts_cereales, labels = ['Animaux', 'Humains', 'Autres utilisations', 'Pertes'], explode = [0,0.2,0,0],\n",
    "       autopct = lambda p: '{:.2f}%'.format(p*total_cereales/100), pctdistance = 0.7)\n",
    "plt.title('Répartition des céréales', fontsize =14)\n",
    "plt.show()"
   ]
  },
  {
   "cell_type": "markdown",
   "id": "9c234b9f",
   "metadata": {},
   "source": [
    "## Thaïlande et manioc"
   ]
  },
  {
   "cell_type": "markdown",
   "id": "c2e9b81d",
   "metadata": {},
   "source": [
    "### Création d'un DF avec les valeurs de la Thaïlande et du manioc"
   ]
  },
  {
   "cell_type": "code",
   "execution_count": 122,
   "id": "038b283f",
   "metadata": {},
   "outputs": [
    {
     "data": {
      "text/html": [
       "<div>\n",
       "<style scoped>\n",
       "    .dataframe tbody tr th:only-of-type {\n",
       "        vertical-align: middle;\n",
       "    }\n",
       "\n",
       "    .dataframe tbody tr th {\n",
       "        vertical-align: top;\n",
       "    }\n",
       "\n",
       "    .dataframe thead th {\n",
       "        text-align: right;\n",
       "    }\n",
       "</style>\n",
       "<table border=\"1\" class=\"dataframe\">\n",
       "  <thead>\n",
       "    <tr style=\"text-align: right;\">\n",
       "      <th></th>\n",
       "      <th>Zone</th>\n",
       "      <th>Produit</th>\n",
       "      <th>Origine</th>\n",
       "      <th>Aliments pour animaux</th>\n",
       "      <th>Autres Utilisations</th>\n",
       "      <th>Disponibilité alimentaire (Kcal/personne/jour)</th>\n",
       "      <th>Disponibilité alimentaire en quantité (kg/personne/an)</th>\n",
       "      <th>Disponibilité de matière grasse en quantité (g/personne/jour)</th>\n",
       "      <th>Disponibilité de protéines en quantité (g/personne/jour)</th>\n",
       "      <th>Disponibilité intérieure</th>\n",
       "      <th>Exportations - Quantité</th>\n",
       "      <th>Importations - Quantité</th>\n",
       "      <th>Nourriture</th>\n",
       "      <th>Pertes</th>\n",
       "      <th>Production</th>\n",
       "      <th>Semences</th>\n",
       "      <th>Traitement</th>\n",
       "      <th>Variation de stock</th>\n",
       "    </tr>\n",
       "  </thead>\n",
       "  <tbody>\n",
       "    <tr>\n",
       "      <th>13809</th>\n",
       "      <td>Thaïlande</td>\n",
       "      <td>Manioc</td>\n",
       "      <td>vegetale</td>\n",
       "      <td>1800.0</td>\n",
       "      <td>2081.0</td>\n",
       "      <td>40.0</td>\n",
       "      <td>13.0</td>\n",
       "      <td>0.05</td>\n",
       "      <td>0.14</td>\n",
       "      <td>6264.0</td>\n",
       "      <td>25214.0</td>\n",
       "      <td>1250.0</td>\n",
       "      <td>871.0</td>\n",
       "      <td>1511.0</td>\n",
       "      <td>30228.0</td>\n",
       "      <td>NaN</td>\n",
       "      <td>0.0</td>\n",
       "      <td>0.0</td>\n",
       "    </tr>\n",
       "  </tbody>\n",
       "</table>\n",
       "</div>"
      ],
      "text/plain": [
       "            Zone Produit   Origine  Aliments pour animaux  \\\n",
       "13809  Thaïlande  Manioc  vegetale                 1800.0   \n",
       "\n",
       "       Autres Utilisations  Disponibilité alimentaire (Kcal/personne/jour)  \\\n",
       "13809               2081.0                                            40.0   \n",
       "\n",
       "       Disponibilité alimentaire en quantité (kg/personne/an)  \\\n",
       "13809                                               13.0        \n",
       "\n",
       "       Disponibilité de matière grasse en quantité (g/personne/jour)  \\\n",
       "13809                                               0.05               \n",
       "\n",
       "       Disponibilité de protéines en quantité (g/personne/jour)  \\\n",
       "13809                                               0.14          \n",
       "\n",
       "       Disponibilité intérieure  Exportations - Quantité  \\\n",
       "13809                    6264.0                  25214.0   \n",
       "\n",
       "       Importations - Quantité  Nourriture  Pertes  Production  Semences  \\\n",
       "13809                   1250.0       871.0  1511.0     30228.0       NaN   \n",
       "\n",
       "       Traitement  Variation de stock  \n",
       "13809         0.0                 0.0  "
      ]
     },
     "execution_count": 122,
     "metadata": {},
     "output_type": "execute_result"
    }
   ],
   "source": [
    "thailande_manioc = dispo_alimentaire[dispo_alimentaire['Zone'] == 'Thaïlande']\n",
    "thailande_manioc = thailande_manioc[thailande_manioc['Produit'] == 'Manioc']\n",
    "thailande_manioc"
   ]
  },
  {
   "cell_type": "markdown",
   "id": "0e399c95",
   "metadata": {},
   "source": [
    "## Création d'un DF avec les valeurs de la population et de la population en état de sous-nutrition de la Thaïlande"
   ]
  },
  {
   "cell_type": "code",
   "execution_count": 123,
   "id": "dd3a5533",
   "metadata": {},
   "outputs": [
    {
     "data": {
      "text/html": [
       "<div>\n",
       "<style scoped>\n",
       "    .dataframe tbody tr th:only-of-type {\n",
       "        vertical-align: middle;\n",
       "    }\n",
       "\n",
       "    .dataframe tbody tr th {\n",
       "        vertical-align: top;\n",
       "    }\n",
       "\n",
       "    .dataframe thead th {\n",
       "        text-align: right;\n",
       "    }\n",
       "</style>\n",
       "<table border=\"1\" class=\"dataframe\">\n",
       "  <thead>\n",
       "    <tr style=\"text-align: right;\">\n",
       "      <th></th>\n",
       "      <th>Zone</th>\n",
       "      <th>Année</th>\n",
       "      <th>Population_ss_nut_millions</th>\n",
       "      <th>Population_millions</th>\n",
       "    </tr>\n",
       "  </thead>\n",
       "  <tbody>\n",
       "    <tr>\n",
       "      <th>185</th>\n",
       "      <td>Thaïlande</td>\n",
       "      <td>2017</td>\n",
       "      <td>6200000.0</td>\n",
       "      <td>69209810.0</td>\n",
       "    </tr>\n",
       "  </tbody>\n",
       "</table>\n",
       "</div>"
      ],
      "text/plain": [
       "          Zone Année  Population_ss_nut_millions  Population_millions\n",
       "185  Thaïlande  2017                   6200000.0           69209810.0"
      ]
     },
     "execution_count": 123,
     "metadata": {},
     "output_type": "execute_result"
    }
   ],
   "source": [
    "thailande = pop_et_ss_nut_2017.loc[pop_et_ss_nut_2017['Zone'] == 'Thaïlande']\n",
    "thailande"
   ]
  },
  {
   "cell_type": "markdown",
   "id": "8714d071",
   "metadata": {},
   "source": [
    "## Proportion de personnes en état de sous-nurition en Thaïlande"
   ]
  },
  {
   "cell_type": "code",
   "execution_count": 125,
   "id": "c8bd87f4",
   "metadata": {},
   "outputs": [
    {
     "name": "stdout",
     "output_type": "stream",
     "text": [
      "8.96 %\n"
     ]
    }
   ],
   "source": [
    "prop_ss_nut_thailande = (thailande['Population_ss_nut_millions'].iloc[0]/thailande['Population_millions'].iloc[0])*100\n",
    "print('{:.2f}'.format(prop_ss_nut_thailande), '%')"
   ]
  },
  {
   "cell_type": "markdown",
   "id": "801e90d8",
   "metadata": {},
   "source": [
    "***En Thaïlande, 8.96 % de la population est en état de sous-nutrition.***"
   ]
  },
  {
   "cell_type": "markdown",
   "id": "222c0454",
   "metadata": {},
   "source": [
    "## Production - Exportation du manioc en Thaïlande"
   ]
  },
  {
   "cell_type": "code",
   "execution_count": 126,
   "id": "27a9df30",
   "metadata": {},
   "outputs": [
    {
     "name": "stdout",
     "output_type": "stream",
     "text": [
      "83.41 %\n"
     ]
    }
   ],
   "source": [
    "prod_exp_manioc = (thailande_manioc['Exportations - Quantité'].iloc[0]/thailande_manioc['Production'].iloc[0])*100\n",
    "print('{:.2f}'.format(prod_exp_manioc), '%')"
   ]
  },
  {
   "cell_type": "markdown",
   "id": "9ab6081c",
   "metadata": {},
   "source": [
    "***En Thaïlande, 83.41 % de la production de manioc sont destinés à l'exportation.***"
   ]
  },
  {
   "cell_type": "markdown",
   "id": "925d3980",
   "metadata": {},
   "source": [
    "# DEMANDE DE MELANIE N°1\n",
    "\n",
    "##### Quelle est la proportion de personnes sous-alimentées dans chaque pays en 2017 ?"
   ]
  },
  {
   "cell_type": "markdown",
   "id": "dce67e08",
   "metadata": {},
   "source": [
    "## Utilisation du DF 'pop_et_ss_nut_2017' crée pour la 1ere demande de Marc (merge entre population et sous_nutrition + localisation de l'année 2017)"
   ]
  },
  {
   "cell_type": "code",
   "execution_count": 127,
   "id": "db1c5176",
   "metadata": {},
   "outputs": [
    {
     "data": {
      "text/html": [
       "<div>\n",
       "<style scoped>\n",
       "    .dataframe tbody tr th:only-of-type {\n",
       "        vertical-align: middle;\n",
       "    }\n",
       "\n",
       "    .dataframe tbody tr th {\n",
       "        vertical-align: top;\n",
       "    }\n",
       "\n",
       "    .dataframe thead th {\n",
       "        text-align: right;\n",
       "    }\n",
       "</style>\n",
       "<table border=\"1\" class=\"dataframe\">\n",
       "  <thead>\n",
       "    <tr style=\"text-align: right;\">\n",
       "      <th></th>\n",
       "      <th>Zone</th>\n",
       "      <th>Année</th>\n",
       "      <th>Population_ss_nut_millions</th>\n",
       "      <th>Population_millions</th>\n",
       "    </tr>\n",
       "  </thead>\n",
       "  <tbody>\n",
       "    <tr>\n",
       "      <th>0</th>\n",
       "      <td>Afghanistan</td>\n",
       "      <td>2017</td>\n",
       "      <td>10500000.0</td>\n",
       "      <td>36296113.0</td>\n",
       "    </tr>\n",
       "    <tr>\n",
       "      <th>1</th>\n",
       "      <td>Afrique du Sud</td>\n",
       "      <td>2017</td>\n",
       "      <td>3100000.0</td>\n",
       "      <td>57009756.0</td>\n",
       "    </tr>\n",
       "  </tbody>\n",
       "</table>\n",
       "</div>"
      ],
      "text/plain": [
       "             Zone Année  Population_ss_nut_millions  Population_millions\n",
       "0     Afghanistan  2017                  10500000.0           36296113.0\n",
       "1  Afrique du Sud  2017                   3100000.0           57009756.0"
      ]
     },
     "execution_count": 127,
     "metadata": {},
     "output_type": "execute_result"
    }
   ],
   "source": [
    "pop_et_ss_nut_2017.head(2)"
   ]
  },
  {
   "cell_type": "markdown",
   "id": "040ca111",
   "metadata": {},
   "source": [
    "## Création d'une boucle for "
   ]
  },
  {
   "cell_type": "code",
   "execution_count": 128,
   "id": "f3a0cf64",
   "metadata": {},
   "outputs": [
    {
     "data": {
      "text/html": [
       "<div>\n",
       "<style scoped>\n",
       "    .dataframe tbody tr th:only-of-type {\n",
       "        vertical-align: middle;\n",
       "    }\n",
       "\n",
       "    .dataframe tbody tr th {\n",
       "        vertical-align: top;\n",
       "    }\n",
       "\n",
       "    .dataframe thead th {\n",
       "        text-align: right;\n",
       "    }\n",
       "</style>\n",
       "<table border=\"1\" class=\"dataframe\">\n",
       "  <thead>\n",
       "    <tr style=\"text-align: right;\">\n",
       "      <th></th>\n",
       "      <th>Zone</th>\n",
       "      <th>Année</th>\n",
       "      <th>Population_ss_nut_millions</th>\n",
       "      <th>Population_millions</th>\n",
       "      <th>prop_ss_nut</th>\n",
       "    </tr>\n",
       "  </thead>\n",
       "  <tbody>\n",
       "    <tr>\n",
       "      <th>0</th>\n",
       "      <td>Afghanistan</td>\n",
       "      <td>2017</td>\n",
       "      <td>10500000.0</td>\n",
       "      <td>36296113.0</td>\n",
       "      <td>28.928718</td>\n",
       "    </tr>\n",
       "    <tr>\n",
       "      <th>1</th>\n",
       "      <td>Afrique du Sud</td>\n",
       "      <td>2017</td>\n",
       "      <td>3100000.0</td>\n",
       "      <td>57009756.0</td>\n",
       "      <td>5.437666</td>\n",
       "    </tr>\n",
       "  </tbody>\n",
       "</table>\n",
       "</div>"
      ],
      "text/plain": [
       "             Zone Année  Population_ss_nut_millions  Population_millions  \\\n",
       "0     Afghanistan  2017                  10500000.0           36296113.0   \n",
       "1  Afrique du Sud  2017                   3100000.0           57009756.0   \n",
       "\n",
       "   prop_ss_nut  \n",
       "0    28.928718  \n",
       "1     5.437666  "
      ]
     },
     "execution_count": 128,
     "metadata": {},
     "output_type": "execute_result"
    }
   ],
   "source": [
    "for r, row in pop_et_ss_nut_2017.iterrows() :\n",
    "    pop_et_ss_nut_2017.loc[r, 'prop_ss_nut'] = (row['Population_ss_nut_millions']/row['Population_millions'])*100\n",
    "pop_et_ss_nut_2017.head(2)   "
   ]
  },
  {
   "cell_type": "markdown",
   "id": "e90e450f",
   "metadata": {},
   "source": [
    "## Trier le DF par ordre décroissant avec df.sort_values et sélectionner le top 10"
   ]
  },
  {
   "cell_type": "code",
   "execution_count": 129,
   "id": "580c1fd9",
   "metadata": {},
   "outputs": [
    {
     "data": {
      "text/html": [
       "<div>\n",
       "<style scoped>\n",
       "    .dataframe tbody tr th:only-of-type {\n",
       "        vertical-align: middle;\n",
       "    }\n",
       "\n",
       "    .dataframe tbody tr th {\n",
       "        vertical-align: top;\n",
       "    }\n",
       "\n",
       "    .dataframe thead th {\n",
       "        text-align: right;\n",
       "    }\n",
       "</style>\n",
       "<table border=\"1\" class=\"dataframe\">\n",
       "  <thead>\n",
       "    <tr style=\"text-align: right;\">\n",
       "      <th></th>\n",
       "      <th>Zone</th>\n",
       "      <th>Année</th>\n",
       "      <th>Population_ss_nut_millions</th>\n",
       "      <th>Population_millions</th>\n",
       "      <th>prop_ss_nut</th>\n",
       "    </tr>\n",
       "  </thead>\n",
       "  <tbody>\n",
       "    <tr>\n",
       "      <th>78</th>\n",
       "      <td>Haïti</td>\n",
       "      <td>2017</td>\n",
       "      <td>5300000.0</td>\n",
       "      <td>10982366.0</td>\n",
       "      <td>48.259182</td>\n",
       "    </tr>\n",
       "    <tr>\n",
       "      <th>157</th>\n",
       "      <td>République populaire démocratique de Corée</td>\n",
       "      <td>2017</td>\n",
       "      <td>12000000.0</td>\n",
       "      <td>25429825.0</td>\n",
       "      <td>47.188685</td>\n",
       "    </tr>\n",
       "    <tr>\n",
       "      <th>108</th>\n",
       "      <td>Madagascar</td>\n",
       "      <td>2017</td>\n",
       "      <td>10500000.0</td>\n",
       "      <td>25570512.0</td>\n",
       "      <td>41.062924</td>\n",
       "    </tr>\n",
       "    <tr>\n",
       "      <th>103</th>\n",
       "      <td>Libéria</td>\n",
       "      <td>2017</td>\n",
       "      <td>1800000.0</td>\n",
       "      <td>4702226.0</td>\n",
       "      <td>38.279742</td>\n",
       "    </tr>\n",
       "    <tr>\n",
       "      <th>100</th>\n",
       "      <td>Lesotho</td>\n",
       "      <td>2017</td>\n",
       "      <td>800000.0</td>\n",
       "      <td>2091534.0</td>\n",
       "      <td>38.249438</td>\n",
       "    </tr>\n",
       "    <tr>\n",
       "      <th>183</th>\n",
       "      <td>Tchad</td>\n",
       "      <td>2017</td>\n",
       "      <td>5700000.0</td>\n",
       "      <td>15016753.0</td>\n",
       "      <td>37.957606</td>\n",
       "    </tr>\n",
       "    <tr>\n",
       "      <th>161</th>\n",
       "      <td>Rwanda</td>\n",
       "      <td>2017</td>\n",
       "      <td>4200000.0</td>\n",
       "      <td>11980961.0</td>\n",
       "      <td>35.055619</td>\n",
       "    </tr>\n",
       "    <tr>\n",
       "      <th>121</th>\n",
       "      <td>Mozambique</td>\n",
       "      <td>2017</td>\n",
       "      <td>9400000.0</td>\n",
       "      <td>28649018.0</td>\n",
       "      <td>32.810898</td>\n",
       "    </tr>\n",
       "    <tr>\n",
       "      <th>186</th>\n",
       "      <td>Timor-Leste</td>\n",
       "      <td>2017</td>\n",
       "      <td>400000.0</td>\n",
       "      <td>1243258.0</td>\n",
       "      <td>32.173531</td>\n",
       "    </tr>\n",
       "  </tbody>\n",
       "</table>\n",
       "</div>"
      ],
      "text/plain": [
       "                                           Zone Année  \\\n",
       "78                                        Haïti  2017   \n",
       "157  République populaire démocratique de Corée  2017   \n",
       "108                                  Madagascar  2017   \n",
       "103                                     Libéria  2017   \n",
       "100                                     Lesotho  2017   \n",
       "183                                       Tchad  2017   \n",
       "161                                      Rwanda  2017   \n",
       "121                                  Mozambique  2017   \n",
       "186                                 Timor-Leste  2017   \n",
       "\n",
       "     Population_ss_nut_millions  Population_millions  prop_ss_nut  \n",
       "78                    5300000.0           10982366.0    48.259182  \n",
       "157                  12000000.0           25429825.0    47.188685  \n",
       "108                  10500000.0           25570512.0    41.062924  \n",
       "103                   1800000.0            4702226.0    38.279742  \n",
       "100                    800000.0            2091534.0    38.249438  \n",
       "183                   5700000.0           15016753.0    37.957606  \n",
       "161                   4200000.0           11980961.0    35.055619  \n",
       "121                   9400000.0           28649018.0    32.810898  \n",
       "186                    400000.0            1243258.0    32.173531  "
      ]
     },
     "execution_count": 129,
     "metadata": {},
     "output_type": "execute_result"
    }
   ],
   "source": [
    "top_10_ss_nut_2017 = pop_et_ss_nut_2017.sort_values(by=['prop_ss_nut'], ignore_index = False, ascending = False )\n",
    "top_10_ss_nut_2017.iloc[0:9,:]"
   ]
  },
  {
   "cell_type": "markdown",
   "id": "1705c336",
   "metadata": {},
   "source": [
    "## Graphique représentant le top 10 des pays ayant la plus grande proportion de personnes en état de sous-nutrition"
   ]
  },
  {
   "cell_type": "code",
   "execution_count": 136,
   "id": "596ef18f",
   "metadata": {},
   "outputs": [
    {
     "data": {
      "image/png": "[encoded data removed]",
      "text/plain": [
       "<Figure size 720x360 with 1 Axes>"
      ]
     },
     "metadata": {
      "needs_background": "light"
     },
     "output_type": "display_data"
    }
   ],
   "source": [
    "plt.figure(figsize=(10,5))\n",
    "sns.barplot(x = top_10_ss_nut_2017.iloc[0:9,:]['prop_ss_nut'], y = top_10_ss_nut_2017.iloc[0:9,:]['Zone'], palette = 'Blues_r')\n",
    "plt.xlabel ('\\nProportion des personnes en état de sous-nutrition', fontsize  = 16, color = 'black')\n",
    "plt.ylabel('Pays\\n', fontsize = 16, color = 'black')\n",
    "plt.title (\"Top 10 des pays ayant la plus grande proportion de personnes en état de sous-nutrition\", fontsize = 18,color = '#2980b9')\n",
    "plt.tight_layout()"
   ]
  },
  {
   "cell_type": "markdown",
   "id": "92c4f5b2",
   "metadata": {},
   "source": [
    "# DEMANDE DE MELANIE N°2\n",
    "\n",
    "##### Quels sont les pays qui ont bénéficié le plus d'aides depuis 2013 ?"
   ]
  },
  {
   "cell_type": "markdown",
   "id": "3a9cfd16",
   "metadata": {},
   "source": [
    "## Calcul des aides alimentaires de chaque pays"
   ]
  },
  {
   "cell_type": "markdown",
   "id": "19af9482",
   "metadata": {},
   "source": [
    "### Méthode 1 : avec df.pivot_table"
   ]
  },
  {
   "cell_type": "code",
   "execution_count": 138,
   "id": "67eb04f3",
   "metadata": {},
   "outputs": [
    {
     "data": {
      "text/html": [
       "<div>\n",
       "<style scoped>\n",
       "    .dataframe tbody tr th:only-of-type {\n",
       "        vertical-align: middle;\n",
       "    }\n",
       "\n",
       "    .dataframe tbody tr th {\n",
       "        vertical-align: top;\n",
       "    }\n",
       "\n",
       "    .dataframe thead th {\n",
       "        text-align: right;\n",
       "    }\n",
       "</style>\n",
       "<table border=\"1\" class=\"dataframe\">\n",
       "  <thead>\n",
       "    <tr style=\"text-align: right;\">\n",
       "      <th></th>\n",
       "      <th>Quantite_tonnes</th>\n",
       "    </tr>\n",
       "    <tr>\n",
       "      <th>Pays bénéficiaire</th>\n",
       "      <th></th>\n",
       "    </tr>\n",
       "  </thead>\n",
       "  <tbody>\n",
       "    <tr>\n",
       "      <th>République arabe syrienne</th>\n",
       "      <td>1858943</td>\n",
       "    </tr>\n",
       "    <tr>\n",
       "      <th>Éthiopie</th>\n",
       "      <td>1381294</td>\n",
       "    </tr>\n",
       "    <tr>\n",
       "      <th>Yémen</th>\n",
       "      <td>1206484</td>\n",
       "    </tr>\n",
       "    <tr>\n",
       "      <th>Soudan du Sud</th>\n",
       "      <td>695248</td>\n",
       "    </tr>\n",
       "    <tr>\n",
       "      <th>Soudan</th>\n",
       "      <td>669784</td>\n",
       "    </tr>\n",
       "  </tbody>\n",
       "</table>\n",
       "</div>"
      ],
      "text/plain": [
       "                           Quantite_tonnes\n",
       "Pays bénéficiaire                         \n",
       "République arabe syrienne          1858943\n",
       "Éthiopie                           1381294\n",
       "Yémen                              1206484\n",
       "Soudan du Sud                       695248\n",
       "Soudan                              669784"
      ]
     },
     "execution_count": 138,
     "metadata": {},
     "output_type": "execute_result"
    }
   ],
   "source": [
    "aide_alimentaire_1 = aide_alimentaire.pivot_table(index=['Pays bénéficiaire'], values = ['Quantite_tonnes'], aggfunc = np.sum)\n",
    "aide_alimentaire_1.sort_values(by=['Quantite_tonnes'], inplace = True, ascending = False)\n",
    "aide_alimentaire_1.head()"
   ]
  },
  {
   "cell_type": "markdown",
   "id": "c79db5d0",
   "metadata": {},
   "source": [
    "### Méthode 2 : avec df.groupby"
   ]
  },
  {
   "cell_type": "code",
   "execution_count": 140,
   "id": "e4e51c0c",
   "metadata": {},
   "outputs": [
    {
     "data": {
      "text/html": [
       "<div>\n",
       "<style scoped>\n",
       "    .dataframe tbody tr th:only-of-type {\n",
       "        vertical-align: middle;\n",
       "    }\n",
       "\n",
       "    .dataframe tbody tr th {\n",
       "        vertical-align: top;\n",
       "    }\n",
       "\n",
       "    .dataframe thead th {\n",
       "        text-align: right;\n",
       "    }\n",
       "</style>\n",
       "<table border=\"1\" class=\"dataframe\">\n",
       "  <thead>\n",
       "    <tr style=\"text-align: right;\">\n",
       "      <th></th>\n",
       "      <th>Quantite_tonnes</th>\n",
       "    </tr>\n",
       "    <tr>\n",
       "      <th>Pays bénéficiaire</th>\n",
       "      <th></th>\n",
       "    </tr>\n",
       "  </thead>\n",
       "  <tbody>\n",
       "    <tr>\n",
       "      <th>République arabe syrienne</th>\n",
       "      <td>1858943</td>\n",
       "    </tr>\n",
       "    <tr>\n",
       "      <th>Éthiopie</th>\n",
       "      <td>1381294</td>\n",
       "    </tr>\n",
       "    <tr>\n",
       "      <th>Yémen</th>\n",
       "      <td>1206484</td>\n",
       "    </tr>\n",
       "    <tr>\n",
       "      <th>Soudan du Sud</th>\n",
       "      <td>695248</td>\n",
       "    </tr>\n",
       "    <tr>\n",
       "      <th>Soudan</th>\n",
       "      <td>669784</td>\n",
       "    </tr>\n",
       "  </tbody>\n",
       "</table>\n",
       "</div>"
      ],
      "text/plain": [
       "                           Quantite_tonnes\n",
       "Pays bénéficiaire                         \n",
       "République arabe syrienne          1858943\n",
       "Éthiopie                           1381294\n",
       "Yémen                              1206484\n",
       "Soudan du Sud                       695248\n",
       "Soudan                              669784"
      ]
     },
     "execution_count": 140,
     "metadata": {},
     "output_type": "execute_result"
    }
   ],
   "source": [
    "aide_alimentaire_2 = aide_alimentaire[['Pays bénéficiaire', 'Quantite_tonnes']].groupby('Pays bénéficiaire').sum()\n",
    "aide_alimentaire_2.sort_values(by=['Quantite_tonnes'], inplace = True, ascending = False)\n",
    "aide_alimentaire_2.head()"
   ]
  },
  {
   "cell_type": "markdown",
   "id": "48767dc0",
   "metadata": {},
   "source": [
    "## Top 10 des pays ayant bénéficié le plus d'aides"
   ]
  },
  {
   "cell_type": "code",
   "execution_count": 141,
   "id": "0b3925f3",
   "metadata": {},
   "outputs": [
    {
     "data": {
      "text/html": [
       "<div>\n",
       "<style scoped>\n",
       "    .dataframe tbody tr th:only-of-type {\n",
       "        vertical-align: middle;\n",
       "    }\n",
       "\n",
       "    .dataframe tbody tr th {\n",
       "        vertical-align: top;\n",
       "    }\n",
       "\n",
       "    .dataframe thead th {\n",
       "        text-align: right;\n",
       "    }\n",
       "</style>\n",
       "<table border=\"1\" class=\"dataframe\">\n",
       "  <thead>\n",
       "    <tr style=\"text-align: right;\">\n",
       "      <th></th>\n",
       "      <th>Quantite_tonnes</th>\n",
       "    </tr>\n",
       "    <tr>\n",
       "      <th>Pays bénéficiaire</th>\n",
       "      <th></th>\n",
       "    </tr>\n",
       "  </thead>\n",
       "  <tbody>\n",
       "    <tr>\n",
       "      <th>République arabe syrienne</th>\n",
       "      <td>1858943</td>\n",
       "    </tr>\n",
       "    <tr>\n",
       "      <th>Éthiopie</th>\n",
       "      <td>1381294</td>\n",
       "    </tr>\n",
       "    <tr>\n",
       "      <th>Yémen</th>\n",
       "      <td>1206484</td>\n",
       "    </tr>\n",
       "    <tr>\n",
       "      <th>Soudan du Sud</th>\n",
       "      <td>695248</td>\n",
       "    </tr>\n",
       "    <tr>\n",
       "      <th>Soudan</th>\n",
       "      <td>669784</td>\n",
       "    </tr>\n",
       "    <tr>\n",
       "      <th>Kenya</th>\n",
       "      <td>552836</td>\n",
       "    </tr>\n",
       "    <tr>\n",
       "      <th>Bangladesh</th>\n",
       "      <td>348188</td>\n",
       "    </tr>\n",
       "    <tr>\n",
       "      <th>Somalie</th>\n",
       "      <td>292678</td>\n",
       "    </tr>\n",
       "    <tr>\n",
       "      <th>République démocratique du Congo</th>\n",
       "      <td>288502</td>\n",
       "    </tr>\n",
       "  </tbody>\n",
       "</table>\n",
       "</div>"
      ],
      "text/plain": [
       "                                  Quantite_tonnes\n",
       "Pays bénéficiaire                                \n",
       "République arabe syrienne                 1858943\n",
       "Éthiopie                                  1381294\n",
       "Yémen                                     1206484\n",
       "Soudan du Sud                              695248\n",
       "Soudan                                     669784\n",
       "Kenya                                      552836\n",
       "Bangladesh                                 348188\n",
       "Somalie                                    292678\n",
       "République démocratique du Congo           288502"
      ]
     },
     "execution_count": 141,
     "metadata": {},
     "output_type": "execute_result"
    }
   ],
   "source": [
    "top_10_aide_alimentaire = aide_alimentaire_1.iloc[0:9,:]\n",
    "top_10_aide_alimentaire"
   ]
  },
  {
   "cell_type": "markdown",
   "id": "dda355ef",
   "metadata": {},
   "source": [
    "## Graphique représentant le top 10 des pays ayant bénéficié le plus d'aides"
   ]
  },
  {
   "cell_type": "code",
   "execution_count": 142,
   "id": "4a4a8249",
   "metadata": {},
   "outputs": [],
   "source": [
    "top_10_aide_alimentaire_graphique = top_10_aide_alimentaire\n",
    "top_10_aide_alimentaire_graphique.reset_index(0, inplace = True)"
   ]
  },
  {
   "cell_type": "code",
   "execution_count": 147,
   "id": "894a342f",
   "metadata": {},
   "outputs": [
    {
     "data": {
      "image/png": "[encoded data removed]",
      "text/plain": [
       "<Figure size 720x432 with 1 Axes>"
      ]
     },
     "metadata": {
      "needs_background": "light"
     },
     "output_type": "display_data"
    }
   ],
   "source": [
    "plt.figure(figsize=(10,6))\n",
    "sns.barplot(x = top_10_aide_alimentaire_graphique['Quantite_tonnes'], y =top_10_aide_alimentaire_graphique['Pays bénéficiaire'], palette = 'Blues_r')\n",
    "plt.xlabel('\\nAide alimentaire en tonnes', fontsize=14, color = 'black')\n",
    "plt.ylabel('Pays bénéficiares\\n', fontsize =14, color = 'black')\n",
    "plt.title(\"Top 10 des pays ayant bénéficié le plus d'aides\", fontsize = 16, color = '#3742fa')\n",
    "plt.tight_layout()"
   ]
  },
  {
   "cell_type": "markdown",
   "id": "8266b1aa",
   "metadata": {},
   "source": [
    "# DEMANDE DE MELANIE N°3\n",
    "\n",
    "###### Quels sont les pays ayant le plus et le moins de disponibilité par habitant ?"
   ]
  },
  {
   "cell_type": "markdown",
   "id": "b6ebf269",
   "metadata": {},
   "source": [
    "   ## Calcul de la disponibilité alimentaire par habitant dans chaque pays"
   ]
  },
  {
   "cell_type": "markdown",
   "id": "5c7757ea",
   "metadata": {},
   "source": [
    "### Méthode 1 : avec df.pivot_table"
   ]
  },
  {
   "cell_type": "code",
   "execution_count": 148,
   "id": "adc1a439",
   "metadata": {},
   "outputs": [
    {
     "data": {
      "text/html": [
       "<div>\n",
       "<style scoped>\n",
       "    .dataframe tbody tr th:only-of-type {\n",
       "        vertical-align: middle;\n",
       "    }\n",
       "\n",
       "    .dataframe tbody tr th {\n",
       "        vertical-align: top;\n",
       "    }\n",
       "\n",
       "    .dataframe thead th {\n",
       "        text-align: right;\n",
       "    }\n",
       "</style>\n",
       "<table border=\"1\" class=\"dataframe\">\n",
       "  <thead>\n",
       "    <tr style=\"text-align: right;\">\n",
       "      <th></th>\n",
       "      <th>Disponibilité alimentaire (Kcal/personne/jour)</th>\n",
       "    </tr>\n",
       "    <tr>\n",
       "      <th>Zone</th>\n",
       "      <th></th>\n",
       "    </tr>\n",
       "  </thead>\n",
       "  <tbody>\n",
       "    <tr>\n",
       "      <th>Afghanistan</th>\n",
       "      <td>2087.0</td>\n",
       "    </tr>\n",
       "    <tr>\n",
       "      <th>Afrique du Sud</th>\n",
       "      <td>3020.0</td>\n",
       "    </tr>\n",
       "    <tr>\n",
       "      <th>Albanie</th>\n",
       "      <td>3188.0</td>\n",
       "    </tr>\n",
       "    <tr>\n",
       "      <th>Algérie</th>\n",
       "      <td>3293.0</td>\n",
       "    </tr>\n",
       "    <tr>\n",
       "      <th>Allemagne</th>\n",
       "      <td>3503.0</td>\n",
       "    </tr>\n",
       "  </tbody>\n",
       "</table>\n",
       "</div>"
      ],
      "text/plain": [
       "                Disponibilité alimentaire (Kcal/personne/jour)\n",
       "Zone                                                          \n",
       "Afghanistan                                             2087.0\n",
       "Afrique du Sud                                          3020.0\n",
       "Albanie                                                 3188.0\n",
       "Algérie                                                 3293.0\n",
       "Allemagne                                               3503.0"
      ]
     },
     "execution_count": 148,
     "metadata": {},
     "output_type": "execute_result"
    }
   ],
   "source": [
    "dispo_par_habitant = dispo_alimentaire.pivot_table(index=['Zone'], values = ['Disponibilité alimentaire (Kcal/personne/jour)'], aggfunc=np.sum)\n",
    "dispo_par_habitant.head()"
   ]
  },
  {
   "cell_type": "markdown",
   "id": "40860c7a",
   "metadata": {},
   "source": [
    "### Méthode 2 : avec df.groupby"
   ]
  },
  {
   "cell_type": "code",
   "execution_count": 150,
   "id": "52beb672",
   "metadata": {},
   "outputs": [
    {
     "data": {
      "text/html": [
       "<div>\n",
       "<style scoped>\n",
       "    .dataframe tbody tr th:only-of-type {\n",
       "        vertical-align: middle;\n",
       "    }\n",
       "\n",
       "    .dataframe tbody tr th {\n",
       "        vertical-align: top;\n",
       "    }\n",
       "\n",
       "    .dataframe thead th {\n",
       "        text-align: right;\n",
       "    }\n",
       "</style>\n",
       "<table border=\"1\" class=\"dataframe\">\n",
       "  <thead>\n",
       "    <tr style=\"text-align: right;\">\n",
       "      <th></th>\n",
       "      <th>Disponibilité alimentaire (Kcal/personne/jour)</th>\n",
       "    </tr>\n",
       "    <tr>\n",
       "      <th>Zone</th>\n",
       "      <th></th>\n",
       "    </tr>\n",
       "  </thead>\n",
       "  <tbody>\n",
       "    <tr>\n",
       "      <th>Afghanistan</th>\n",
       "      <td>2087.0</td>\n",
       "    </tr>\n",
       "    <tr>\n",
       "      <th>Afrique du Sud</th>\n",
       "      <td>3020.0</td>\n",
       "    </tr>\n",
       "    <tr>\n",
       "      <th>Albanie</th>\n",
       "      <td>3188.0</td>\n",
       "    </tr>\n",
       "    <tr>\n",
       "      <th>Algérie</th>\n",
       "      <td>3293.0</td>\n",
       "    </tr>\n",
       "    <tr>\n",
       "      <th>Allemagne</th>\n",
       "      <td>3503.0</td>\n",
       "    </tr>\n",
       "  </tbody>\n",
       "</table>\n",
       "</div>"
      ],
      "text/plain": [
       "                Disponibilité alimentaire (Kcal/personne/jour)\n",
       "Zone                                                          \n",
       "Afghanistan                                             2087.0\n",
       "Afrique du Sud                                          3020.0\n",
       "Albanie                                                 3188.0\n",
       "Algérie                                                 3293.0\n",
       "Allemagne                                               3503.0"
      ]
     },
     "execution_count": 150,
     "metadata": {},
     "output_type": "execute_result"
    }
   ],
   "source": [
    "dispo_par_habitant_2 = dispo_alimentaire[['Zone', 'Disponibilité alimentaire (Kcal/personne/jour)']].groupby('Zone').sum()\n",
    "dispo_par_habitant_2.head()"
   ]
  },
  {
   "cell_type": "markdown",
   "id": "6b6ab09e",
   "metadata": {},
   "source": [
    "## Top 10 des pays ayant le plus de disponibilité par habitant"
   ]
  },
  {
   "cell_type": "code",
   "execution_count": 151,
   "id": "03829818",
   "metadata": {},
   "outputs": [
    {
     "data": {
      "text/html": [
       "<div>\n",
       "<style scoped>\n",
       "    .dataframe tbody tr th:only-of-type {\n",
       "        vertical-align: middle;\n",
       "    }\n",
       "\n",
       "    .dataframe tbody tr th {\n",
       "        vertical-align: top;\n",
       "    }\n",
       "\n",
       "    .dataframe thead th {\n",
       "        text-align: right;\n",
       "    }\n",
       "</style>\n",
       "<table border=\"1\" class=\"dataframe\">\n",
       "  <thead>\n",
       "    <tr style=\"text-align: right;\">\n",
       "      <th></th>\n",
       "      <th>Disponibilité alimentaire (Kcal/personne/jour)</th>\n",
       "    </tr>\n",
       "    <tr>\n",
       "      <th>Zone</th>\n",
       "      <th></th>\n",
       "    </tr>\n",
       "  </thead>\n",
       "  <tbody>\n",
       "    <tr>\n",
       "      <th>Autriche</th>\n",
       "      <td>3770.0</td>\n",
       "    </tr>\n",
       "    <tr>\n",
       "      <th>Belgique</th>\n",
       "      <td>3737.0</td>\n",
       "    </tr>\n",
       "    <tr>\n",
       "      <th>Turquie</th>\n",
       "      <td>3708.0</td>\n",
       "    </tr>\n",
       "    <tr>\n",
       "      <th>États-Unis d'Amérique</th>\n",
       "      <td>3682.0</td>\n",
       "    </tr>\n",
       "    <tr>\n",
       "      <th>Israël</th>\n",
       "      <td>3610.0</td>\n",
       "    </tr>\n",
       "    <tr>\n",
       "      <th>Irlande</th>\n",
       "      <td>3602.0</td>\n",
       "    </tr>\n",
       "    <tr>\n",
       "      <th>Italie</th>\n",
       "      <td>3578.0</td>\n",
       "    </tr>\n",
       "    <tr>\n",
       "      <th>Luxembourg</th>\n",
       "      <td>3540.0</td>\n",
       "    </tr>\n",
       "    <tr>\n",
       "      <th>Égypte</th>\n",
       "      <td>3518.0</td>\n",
       "    </tr>\n",
       "  </tbody>\n",
       "</table>\n",
       "</div>"
      ],
      "text/plain": [
       "                       Disponibilité alimentaire (Kcal/personne/jour)\n",
       "Zone                                                                 \n",
       "Autriche                                                       3770.0\n",
       "Belgique                                                       3737.0\n",
       "Turquie                                                        3708.0\n",
       "États-Unis d'Amérique                                          3682.0\n",
       "Israël                                                         3610.0\n",
       "Irlande                                                        3602.0\n",
       "Italie                                                         3578.0\n",
       "Luxembourg                                                     3540.0\n",
       "Égypte                                                         3518.0"
      ]
     },
     "execution_count": 151,
     "metadata": {},
     "output_type": "execute_result"
    }
   ],
   "source": [
    "pays_avec_le_plus_de_dispo = dispo_par_habitant.sort_values(by=['Disponibilité alimentaire (Kcal/personne/jour)'], ascending = False)\n",
    "pays_avec_le_plus_de_dispo.iloc[0:9,:]"
   ]
  },
  {
   "cell_type": "markdown",
   "id": "33ceccd1",
   "metadata": {},
   "source": [
    "## Graphique représentant le top 10 des pays ayant le plus de disponibilité"
   ]
  },
  {
   "cell_type": "code",
   "execution_count": 152,
   "id": "f47bbedc",
   "metadata": {},
   "outputs": [],
   "source": [
    "pays_avec_le_plus_de_dispo_2 = pays_avec_le_plus_de_dispo\n",
    "pays_avec_le_plus_de_dispo_2.reset_index(0, inplace=True)"
   ]
  },
  {
   "cell_type": "code",
   "execution_count": 163,
   "id": "8fadfee7",
   "metadata": {},
   "outputs": [
    {
     "data": {
      "text/plain": [
       "Text(0.5, 1.0, 'Les 10 pays ayant le plus de disponibilité alimentaire par habitant')"
      ]
     },
     "execution_count": 163,
     "metadata": {},
     "output_type": "execute_result"
    },
    {
     "data": {
      "image/png": "[encoded data removed]",
      "text/plain": [
       "<Figure size 432x288 with 1 Axes>"
      ]
     },
     "metadata": {
      "needs_background": "light"
     },
     "output_type": "display_data"
    }
   ],
   "source": [
    "sns.barplot(x = 'Disponibilité alimentaire (Kcal/personne/jour)', y ='Zone',\n",
    "           data = pays_avec_le_plus_de_dispo_2.iloc[0:9,:], palette = 'Blues_r').set_title('Les 10 pays ayant le plus de disponibilité alimentaire par habitant', fontsize = 16, color = 'black')"
   ]
  },
  {
   "cell_type": "markdown",
   "id": "c84f8e2b",
   "metadata": {},
   "source": [
    "## Top 10 des pays ayant le moins de disponibilité par habitant"
   ]
  },
  {
   "cell_type": "code",
   "execution_count": 155,
   "id": "f46b5122",
   "metadata": {},
   "outputs": [
    {
     "data": {
      "text/html": [
       "<div>\n",
       "<style scoped>\n",
       "    .dataframe tbody tr th:only-of-type {\n",
       "        vertical-align: middle;\n",
       "    }\n",
       "\n",
       "    .dataframe tbody tr th {\n",
       "        vertical-align: top;\n",
       "    }\n",
       "\n",
       "    .dataframe thead th {\n",
       "        text-align: right;\n",
       "    }\n",
       "</style>\n",
       "<table border=\"1\" class=\"dataframe\">\n",
       "  <thead>\n",
       "    <tr style=\"text-align: right;\">\n",
       "      <th></th>\n",
       "      <th>Disponibilité alimentaire (Kcal/personne/jour)</th>\n",
       "    </tr>\n",
       "    <tr>\n",
       "      <th>Zone</th>\n",
       "      <th></th>\n",
       "    </tr>\n",
       "  </thead>\n",
       "  <tbody>\n",
       "    <tr>\n",
       "      <th>République centrafricaine</th>\n",
       "      <td>1879.0</td>\n",
       "    </tr>\n",
       "    <tr>\n",
       "      <th>Zambie</th>\n",
       "      <td>1924.0</td>\n",
       "    </tr>\n",
       "    <tr>\n",
       "      <th>Madagascar</th>\n",
       "      <td>2056.0</td>\n",
       "    </tr>\n",
       "    <tr>\n",
       "      <th>Afghanistan</th>\n",
       "      <td>2087.0</td>\n",
       "    </tr>\n",
       "    <tr>\n",
       "      <th>Haïti</th>\n",
       "      <td>2089.0</td>\n",
       "    </tr>\n",
       "    <tr>\n",
       "      <th>République populaire démocratique de Corée</th>\n",
       "      <td>2093.0</td>\n",
       "    </tr>\n",
       "    <tr>\n",
       "      <th>Tchad</th>\n",
       "      <td>2109.0</td>\n",
       "    </tr>\n",
       "    <tr>\n",
       "      <th>Zimbabwe</th>\n",
       "      <td>2113.0</td>\n",
       "    </tr>\n",
       "    <tr>\n",
       "      <th>Ouganda</th>\n",
       "      <td>2126.0</td>\n",
       "    </tr>\n",
       "  </tbody>\n",
       "</table>\n",
       "</div>"
      ],
      "text/plain": [
       "                                            Disponibilité alimentaire (Kcal/personne/jour)\n",
       "Zone                                                                                      \n",
       "République centrafricaine                                                           1879.0\n",
       "Zambie                                                                              1924.0\n",
       "Madagascar                                                                          2056.0\n",
       "Afghanistan                                                                         2087.0\n",
       "Haïti                                                                               2089.0\n",
       "République populaire démocratique de Corée                                          2093.0\n",
       "Tchad                                                                               2109.0\n",
       "Zimbabwe                                                                            2113.0\n",
       "Ouganda                                                                             2126.0"
      ]
     },
     "execution_count": 155,
     "metadata": {},
     "output_type": "execute_result"
    }
   ],
   "source": [
    "pays_avec_le_moins_de_dispo = dispo_par_habitant.sort_values(by=['Disponibilité alimentaire (Kcal/personne/jour)'])\n",
    "pays_avec_le_moins_de_dispo.iloc[0:9,:]"
   ]
  },
  {
   "cell_type": "markdown",
   "id": "fd784c09",
   "metadata": {},
   "source": [
    "## Graphique représentant le top 10 des pays ayant le moins de disponibilité"
   ]
  },
  {
   "cell_type": "code",
   "execution_count": 159,
   "id": "02fc2f13",
   "metadata": {},
   "outputs": [],
   "source": [
    "pays_avec_le_moins_de_dispo_2 = pays_avec_le_moins_de_dispo\n",
    "pays_avec_le_moins_de_dispo_2.reset_index(0, inplace = True)"
   ]
  },
  {
   "cell_type": "code",
   "execution_count": 160,
   "id": "e8c54ff2",
   "metadata": {},
   "outputs": [
    {
     "data": {
      "image/png": "[encoded data removed]",
      "text/plain": [
       "<Figure size 720x360 with 1 Axes>"
      ]
     },
     "metadata": {
      "needs_background": "light"
     },
     "output_type": "display_data"
    }
   ],
   "source": [
    "plt.figure(figsize =(10,5))\n",
    "sns.barplot (x = pays_avec_le_moins_de_dispo_2.iloc[0:9,:]['Disponibilité alimentaire (Kcal/personne/jour)'],\n",
    "            y = pays_avec_le_moins_de_dispo_2.iloc[0:9,:]['Zone'], palette = 'Blues_r')\n",
    "plt.xlabel('\\nDisponibilité alimentaire (Kcal/personne/jour)', fontsize=15, color = 'black')\n",
    "plt.ylabel('Zone\\n', fontsize =15, color = 'black')\n",
    "plt.title(\"Les 10 pays ayant le moins de disponibilités alimentaires par habitant\", fontsize = 22, color = 'b')\n",
    "plt.tight_layout()"
   ]
  }
 ],
 "metadata": {
  "kernelspec": {
   "display_name": "Python 3 (ipykernel)",
   "language": "python",
   "name": "python3"
  },
  "language_info": {
   "codemirror_mode": {
    "name": "ipython",
    "version": 3
   },
   "file_extension": ".py",
   "mimetype": "text/x-python",
   "name": "python",
   "nbconvert_exporter": "python",
   "pygments_lexer": "ipython3",
   "version": "3.9.7"
  },
  "toc": {
   "base_numbering": 1,
   "nav_menu": {},
   "number_sections": true,
   "sideBar": true,
   "skip_h1_title": false,
   "title_cell": "Table of Contents",
   "title_sidebar": "Contents",
   "toc_cell": false,
   "toc_position": {
    "height": "calc(100% - 180px)",
    "left": "10px",
    "top": "150px",
    "width": "519.438px"
   },
   "toc_section_display": true,
   "toc_window_display": true
  }
 },
 "nbformat": 4,
 "nbformat_minor": 5
}
